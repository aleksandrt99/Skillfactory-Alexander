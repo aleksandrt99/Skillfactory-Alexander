{
 "cells": [
  {
   "cell_type": "markdown",
   "metadata": {},
   "source": [
    "![](https://www.pata.org/wp-content/uploads/2014/09/TripAdvisor_Logo-300x119.png)\n",
    "# Predict TripAdvisor Rating\n",
    "## В этом соревновании нам предстоит предсказать рейтинг ресторана в TripAdvisor\n",
    "**По ходу задачи:**\n",
    "* Прокачаем работу с pandas\n",
    "* Научимся работать с Kaggle Notebooks\n",
    "* Поймем как делать предобработку различных данных\n",
    "* Научимся работать с пропущенными данными (Nan)\n",
    "* Познакомимся с различными видами кодирования признаков\n",
    "* Немного попробуем [Feature Engineering](https://ru.wikipedia.org/wiki/Конструирование_признаков) (генерировать новые признаки)\n",
    "* И совсем немного затронем ML\n",
    "* И многое другое...   \n",
    "\n",
    "\n",
    "\n",
    "### И самое важное, все это вы сможете сделать самостоятельно!\n",
    "\n",
    "*Этот Ноутбук являетсся Примером/Шаблоном к этому соревнованию (Baseline) и не служит готовым решением!*   \n",
    "Вы можете использовать его как основу для построения своего решения.\n",
    "\n",
    "> что такое baseline решение, зачем оно нужно и почему предоставлять baseline к соревнованию стало важным стандартом на kaggle и других площадках.   \n",
    "**baseline** создается больше как шаблон, где можно посмотреть как происходит обращение с входящими данными и что нужно получить на выходе. При этом МЛ начинка может быть достаточно простой, просто для примера. Это помогает быстрее приступить к самому МЛ, а не тратить ценное время на чисто инженерные задачи. \n",
    "Также baseline являеться хорошей опорной точкой по метрике. Если твое решение хуже baseline - ты явно делаешь что-то не то и стоит попробовать другой путь) \n",
    "\n",
    "В контексте нашего соревнования baseline идет с небольшими примерами того, что можно делать с данными, и с инструкцией, что делать дальше, чтобы улучшить результат.  Вообще готовым решением это сложно назвать, так как используются всего 2 самых простых признака (а остальные исключаются)."
   ]
  },
  {
   "cell_type": "markdown",
   "metadata": {},
   "source": [
    "# import"
   ]
  },
  {
   "cell_type": "code",
   "execution_count": 2,
   "metadata": {
    "_cell_guid": "b1076dfc-b9ad-4769-8c92-a6c4dae69d19",
    "_uuid": "8f2839f25d086af736a60e9eeb907d3b93b6e0e5"
   },
   "outputs": [],
   "source": [
    "# This Python 3 environment comes with many helpful analytics libraries installed\n",
    "# It is defined by the kaggle/python docker image: https://github.com/kaggle/docker-python\n",
    "# For example, here's several helpful packages to load in \n",
    "\n",
    "import numpy as np # linear algebra\n",
    "import pandas as pd # data processing, CSV file I/O (e.g. pd.read_csv)\n",
    "\n",
    "import matplotlib.pyplot as plt\n",
    "import seaborn as sns \n",
    "%matplotlib inline\n",
    "\n",
    "# Загружаем специальный удобный инструмент для разделения датасета:\n",
    "from sklearn.model_selection import train_test_split\n",
    "\n",
    "# Input data files are available in the \"../input/\" directory.\n",
    "# For example, running this (by clicking run or pressing Shift+Enter) will list all files under the input directory\n",
    "\n",
    "import os\n",
    "for dirname, _, filenames in os.walk('/kaggle/input'):\n",
    "    for filename in filenames:\n",
    "        print(os.path.join(dirname, filename))\n",
    "\n",
    "# Any results you write to the current directory are saved as output."
   ]
  },
  {
   "cell_type": "code",
   "execution_count": 3,
   "metadata": {},
   "outputs": [],
   "source": [
    "# всегда фиксируйте RANDOM_SEED, чтобы ваши эксперименты были воспроизводимы!\n",
    "RANDOM_SEED = 42"
   ]
  },
  {
   "cell_type": "code",
   "execution_count": 4,
   "metadata": {},
   "outputs": [],
   "source": [
    "# зафиксируем версию пакетов, чтобы эксперименты были воспроизводимы:\n",
    "!pip freeze > requirements.txt"
   ]
  },
  {
   "cell_type": "markdown",
   "metadata": {},
   "source": [
    "# DATA"
   ]
  },
  {
   "cell_type": "code",
   "execution_count": 7,
   "metadata": {
    "_cell_guid": "79c7e3d0-c299-4dcb-8224-4455121ee9b0",
    "_uuid": "d629ff2d2480ee46fbb7e2d37f6b5fab8052498a"
   },
   "outputs": [],
   "source": [
    "DATA_DIR = '/kaggle/input/sf-dst-restaurant-rating/'\n",
    "df_train = pd.read_csv(DATA_DIR+'main_task.csv')\n",
    "#df_train = pd.read_csv('main_task.csv')\n",
    "df_test = pd.read_csv(DATA_DIR+'kaggle_task.csv')\n",
    "#df_test = pd.read_csv('kaggle_task.csv')\n",
    "sample_submission = pd.read_csv(DATA_DIR+'sample_submission.csv')\n",
    "#sample_submission = pd.read_csv('sample_submission.csv')"
   ]
  },
  {
   "cell_type": "code",
   "execution_count": 8,
   "metadata": {},
   "outputs": [
    {
     "name": "stdout",
     "output_type": "stream",
     "text": [
      "<class 'pandas.core.frame.DataFrame'>\n",
      "RangeIndex: 40000 entries, 0 to 39999\n",
      "Data columns (total 10 columns):\n",
      " #   Column             Non-Null Count  Dtype  \n",
      "---  ------             --------------  -----  \n",
      " 0   Restaurant_id      40000 non-null  object \n",
      " 1   City               40000 non-null  object \n",
      " 2   Cuisine Style      30717 non-null  object \n",
      " 3   Ranking            40000 non-null  float64\n",
      " 4   Rating             40000 non-null  float64\n",
      " 5   Price Range        26114 non-null  object \n",
      " 6   Number of Reviews  37457 non-null  float64\n",
      " 7   Reviews            40000 non-null  object \n",
      " 8   URL_TA             40000 non-null  object \n",
      " 9   ID_TA              40000 non-null  object \n",
      "dtypes: float64(3), object(7)\n",
      "memory usage: 3.1+ MB\n"
     ]
    }
   ],
   "source": [
    "df_train.info()"
   ]
  },
  {
   "cell_type": "code",
   "execution_count": 9,
   "metadata": {},
   "outputs": [
    {
     "data": {
      "text/html": [
       "<div>\n",
       "<style scoped>\n",
       "    .dataframe tbody tr th:only-of-type {\n",
       "        vertical-align: middle;\n",
       "    }\n",
       "\n",
       "    .dataframe tbody tr th {\n",
       "        vertical-align: top;\n",
       "    }\n",
       "\n",
       "    .dataframe thead th {\n",
       "        text-align: right;\n",
       "    }\n",
       "</style>\n",
       "<table border=\"1\" class=\"dataframe\">\n",
       "  <thead>\n",
       "    <tr style=\"text-align: right;\">\n",
       "      <th></th>\n",
       "      <th>Restaurant_id</th>\n",
       "      <th>City</th>\n",
       "      <th>Cuisine Style</th>\n",
       "      <th>Ranking</th>\n",
       "      <th>Rating</th>\n",
       "      <th>Price Range</th>\n",
       "      <th>Number of Reviews</th>\n",
       "      <th>Reviews</th>\n",
       "      <th>URL_TA</th>\n",
       "      <th>ID_TA</th>\n",
       "    </tr>\n",
       "  </thead>\n",
       "  <tbody>\n",
       "    <tr>\n",
       "      <th>0</th>\n",
       "      <td>id_5569</td>\n",
       "      <td>Paris</td>\n",
       "      <td>['European', 'French', 'International']</td>\n",
       "      <td>5570.0</td>\n",
       "      <td>3.5</td>\n",
       "      <td>$$ - $$$</td>\n",
       "      <td>194.0</td>\n",
       "      <td>[['Good food at your doorstep', 'A good hotel ...</td>\n",
       "      <td>/Restaurant_Review-g187147-d1912643-Reviews-R_...</td>\n",
       "      <td>d1912643</td>\n",
       "    </tr>\n",
       "    <tr>\n",
       "      <th>1</th>\n",
       "      <td>id_1535</td>\n",
       "      <td>Stockholm</td>\n",
       "      <td>NaN</td>\n",
       "      <td>1537.0</td>\n",
       "      <td>4.0</td>\n",
       "      <td>NaN</td>\n",
       "      <td>10.0</td>\n",
       "      <td>[['Unique cuisine', 'Delicious Nepalese food']...</td>\n",
       "      <td>/Restaurant_Review-g189852-d7992032-Reviews-Bu...</td>\n",
       "      <td>d7992032</td>\n",
       "    </tr>\n",
       "    <tr>\n",
       "      <th>2</th>\n",
       "      <td>id_352</td>\n",
       "      <td>London</td>\n",
       "      <td>['Japanese', 'Sushi', 'Asian', 'Grill', 'Veget...</td>\n",
       "      <td>353.0</td>\n",
       "      <td>4.5</td>\n",
       "      <td>$$$$</td>\n",
       "      <td>688.0</td>\n",
       "      <td>[['Catch up with friends', 'Not exceptional'],...</td>\n",
       "      <td>/Restaurant_Review-g186338-d8632781-Reviews-RO...</td>\n",
       "      <td>d8632781</td>\n",
       "    </tr>\n",
       "    <tr>\n",
       "      <th>3</th>\n",
       "      <td>id_3456</td>\n",
       "      <td>Berlin</td>\n",
       "      <td>NaN</td>\n",
       "      <td>3458.0</td>\n",
       "      <td>5.0</td>\n",
       "      <td>NaN</td>\n",
       "      <td>3.0</td>\n",
       "      <td>[[], []]</td>\n",
       "      <td>/Restaurant_Review-g187323-d1358776-Reviews-Es...</td>\n",
       "      <td>d1358776</td>\n",
       "    </tr>\n",
       "    <tr>\n",
       "      <th>4</th>\n",
       "      <td>id_615</td>\n",
       "      <td>Munich</td>\n",
       "      <td>['German', 'Central European', 'Vegetarian Fri...</td>\n",
       "      <td>621.0</td>\n",
       "      <td>4.0</td>\n",
       "      <td>$$ - $$$</td>\n",
       "      <td>84.0</td>\n",
       "      <td>[['Best place to try a Bavarian food', 'Nice b...</td>\n",
       "      <td>/Restaurant_Review-g187309-d6864963-Reviews-Au...</td>\n",
       "      <td>d6864963</td>\n",
       "    </tr>\n",
       "  </tbody>\n",
       "</table>\n",
       "</div>"
      ],
      "text/plain": [
       "  Restaurant_id       City                                      Cuisine Style  \\\n",
       "0       id_5569      Paris            ['European', 'French', 'International']   \n",
       "1       id_1535  Stockholm                                                NaN   \n",
       "2        id_352     London  ['Japanese', 'Sushi', 'Asian', 'Grill', 'Veget...   \n",
       "3       id_3456     Berlin                                                NaN   \n",
       "4        id_615     Munich  ['German', 'Central European', 'Vegetarian Fri...   \n",
       "\n",
       "   Ranking  Rating Price Range  Number of Reviews  \\\n",
       "0   5570.0     3.5    $$ - $$$              194.0   \n",
       "1   1537.0     4.0         NaN               10.0   \n",
       "2    353.0     4.5        $$$$              688.0   \n",
       "3   3458.0     5.0         NaN                3.0   \n",
       "4    621.0     4.0    $$ - $$$               84.0   \n",
       "\n",
       "                                             Reviews  \\\n",
       "0  [['Good food at your doorstep', 'A good hotel ...   \n",
       "1  [['Unique cuisine', 'Delicious Nepalese food']...   \n",
       "2  [['Catch up with friends', 'Not exceptional'],...   \n",
       "3                                           [[], []]   \n",
       "4  [['Best place to try a Bavarian food', 'Nice b...   \n",
       "\n",
       "                                              URL_TA     ID_TA  \n",
       "0  /Restaurant_Review-g187147-d1912643-Reviews-R_...  d1912643  \n",
       "1  /Restaurant_Review-g189852-d7992032-Reviews-Bu...  d7992032  \n",
       "2  /Restaurant_Review-g186338-d8632781-Reviews-RO...  d8632781  \n",
       "3  /Restaurant_Review-g187323-d1358776-Reviews-Es...  d1358776  \n",
       "4  /Restaurant_Review-g187309-d6864963-Reviews-Au...  d6864963  "
      ]
     },
     "execution_count": 9,
     "metadata": {},
     "output_type": "execute_result"
    }
   ],
   "source": [
    "df_train.head(5)"
   ]
  },
  {
   "cell_type": "code",
   "execution_count": 10,
   "metadata": {},
   "outputs": [
    {
     "name": "stdout",
     "output_type": "stream",
     "text": [
      "<class 'pandas.core.frame.DataFrame'>\n",
      "RangeIndex: 10000 entries, 0 to 9999\n",
      "Data columns (total 9 columns):\n",
      " #   Column             Non-Null Count  Dtype  \n",
      "---  ------             --------------  -----  \n",
      " 0   Restaurant_id      10000 non-null  object \n",
      " 1   City               10000 non-null  object \n",
      " 2   Cuisine Style      7693 non-null   object \n",
      " 3   Ranking            10000 non-null  float64\n",
      " 4   Price Range        6525 non-null   object \n",
      " 5   Number of Reviews  9343 non-null   float64\n",
      " 6   Reviews            9998 non-null   object \n",
      " 7   URL_TA             10000 non-null  object \n",
      " 8   ID_TA              10000 non-null  object \n",
      "dtypes: float64(2), object(7)\n",
      "memory usage: 703.2+ KB\n"
     ]
    }
   ],
   "source": [
    "df_test.info()"
   ]
  },
  {
   "cell_type": "code",
   "execution_count": 11,
   "metadata": {},
   "outputs": [
    {
     "data": {
      "text/html": [
       "<div>\n",
       "<style scoped>\n",
       "    .dataframe tbody tr th:only-of-type {\n",
       "        vertical-align: middle;\n",
       "    }\n",
       "\n",
       "    .dataframe tbody tr th {\n",
       "        vertical-align: top;\n",
       "    }\n",
       "\n",
       "    .dataframe thead th {\n",
       "        text-align: right;\n",
       "    }\n",
       "</style>\n",
       "<table border=\"1\" class=\"dataframe\">\n",
       "  <thead>\n",
       "    <tr style=\"text-align: right;\">\n",
       "      <th></th>\n",
       "      <th>Restaurant_id</th>\n",
       "      <th>City</th>\n",
       "      <th>Cuisine Style</th>\n",
       "      <th>Ranking</th>\n",
       "      <th>Price Range</th>\n",
       "      <th>Number of Reviews</th>\n",
       "      <th>Reviews</th>\n",
       "      <th>URL_TA</th>\n",
       "      <th>ID_TA</th>\n",
       "    </tr>\n",
       "  </thead>\n",
       "  <tbody>\n",
       "    <tr>\n",
       "      <th>0</th>\n",
       "      <td>id_0</td>\n",
       "      <td>Paris</td>\n",
       "      <td>['Bar', 'Pub']</td>\n",
       "      <td>12963.0</td>\n",
       "      <td>$$ - $$$</td>\n",
       "      <td>4.0</td>\n",
       "      <td>[[], []]</td>\n",
       "      <td>/Restaurant_Review-g187147-d10746918-Reviews-L...</td>\n",
       "      <td>d10746918</td>\n",
       "    </tr>\n",
       "    <tr>\n",
       "      <th>1</th>\n",
       "      <td>id_1</td>\n",
       "      <td>Helsinki</td>\n",
       "      <td>['European', 'Scandinavian', 'Gluten Free Opti...</td>\n",
       "      <td>106.0</td>\n",
       "      <td>$$ - $$$</td>\n",
       "      <td>97.0</td>\n",
       "      <td>[['Very good reviews!', 'Fine dining in Hakani...</td>\n",
       "      <td>/Restaurant_Review-g189934-d6674944-Reviews-Ra...</td>\n",
       "      <td>d6674944</td>\n",
       "    </tr>\n",
       "    <tr>\n",
       "      <th>2</th>\n",
       "      <td>id_2</td>\n",
       "      <td>Edinburgh</td>\n",
       "      <td>['Vegetarian Friendly']</td>\n",
       "      <td>810.0</td>\n",
       "      <td>$$ - $$$</td>\n",
       "      <td>28.0</td>\n",
       "      <td>[['Better than the Links', 'Ivy Black'], ['12/...</td>\n",
       "      <td>/Restaurant_Review-g186525-d13129638-Reviews-B...</td>\n",
       "      <td>d13129638</td>\n",
       "    </tr>\n",
       "    <tr>\n",
       "      <th>3</th>\n",
       "      <td>id_3</td>\n",
       "      <td>London</td>\n",
       "      <td>['Italian', 'Mediterranean', 'European', 'Vege...</td>\n",
       "      <td>1669.0</td>\n",
       "      <td>$$$$</td>\n",
       "      <td>202.0</td>\n",
       "      <td>[['Most exquisite', 'Delicious and authentic']...</td>\n",
       "      <td>/Restaurant_Review-g186338-d680417-Reviews-Qui...</td>\n",
       "      <td>d680417</td>\n",
       "    </tr>\n",
       "    <tr>\n",
       "      <th>4</th>\n",
       "      <td>id_4</td>\n",
       "      <td>Bratislava</td>\n",
       "      <td>['Italian', 'Mediterranean', 'European', 'Seaf...</td>\n",
       "      <td>37.0</td>\n",
       "      <td>$$$$</td>\n",
       "      <td>162.0</td>\n",
       "      <td>[['Always the best in bratislava', 'Very good ...</td>\n",
       "      <td>/Restaurant_Review-g274924-d1112354-Reviews-Ma...</td>\n",
       "      <td>d1112354</td>\n",
       "    </tr>\n",
       "  </tbody>\n",
       "</table>\n",
       "</div>"
      ],
      "text/plain": [
       "  Restaurant_id        City  \\\n",
       "0          id_0       Paris   \n",
       "1          id_1    Helsinki   \n",
       "2          id_2   Edinburgh   \n",
       "3          id_3      London   \n",
       "4          id_4  Bratislava   \n",
       "\n",
       "                                       Cuisine Style  Ranking Price Range  \\\n",
       "0                                     ['Bar', 'Pub']  12963.0    $$ - $$$   \n",
       "1  ['European', 'Scandinavian', 'Gluten Free Opti...    106.0    $$ - $$$   \n",
       "2                            ['Vegetarian Friendly']    810.0    $$ - $$$   \n",
       "3  ['Italian', 'Mediterranean', 'European', 'Vege...   1669.0        $$$$   \n",
       "4  ['Italian', 'Mediterranean', 'European', 'Seaf...     37.0        $$$$   \n",
       "\n",
       "   Number of Reviews                                            Reviews  \\\n",
       "0                4.0                                           [[], []]   \n",
       "1               97.0  [['Very good reviews!', 'Fine dining in Hakani...   \n",
       "2               28.0  [['Better than the Links', 'Ivy Black'], ['12/...   \n",
       "3              202.0  [['Most exquisite', 'Delicious and authentic']...   \n",
       "4              162.0  [['Always the best in bratislava', 'Very good ...   \n",
       "\n",
       "                                              URL_TA      ID_TA  \n",
       "0  /Restaurant_Review-g187147-d10746918-Reviews-L...  d10746918  \n",
       "1  /Restaurant_Review-g189934-d6674944-Reviews-Ra...   d6674944  \n",
       "2  /Restaurant_Review-g186525-d13129638-Reviews-B...  d13129638  \n",
       "3  /Restaurant_Review-g186338-d680417-Reviews-Qui...    d680417  \n",
       "4  /Restaurant_Review-g274924-d1112354-Reviews-Ma...   d1112354  "
      ]
     },
     "execution_count": 11,
     "metadata": {},
     "output_type": "execute_result"
    }
   ],
   "source": [
    "df_test.head(5)"
   ]
  },
  {
   "cell_type": "code",
   "execution_count": 12,
   "metadata": {},
   "outputs": [
    {
     "data": {
      "text/html": [
       "<div>\n",
       "<style scoped>\n",
       "    .dataframe tbody tr th:only-of-type {\n",
       "        vertical-align: middle;\n",
       "    }\n",
       "\n",
       "    .dataframe tbody tr th {\n",
       "        vertical-align: top;\n",
       "    }\n",
       "\n",
       "    .dataframe thead th {\n",
       "        text-align: right;\n",
       "    }\n",
       "</style>\n",
       "<table border=\"1\" class=\"dataframe\">\n",
       "  <thead>\n",
       "    <tr style=\"text-align: right;\">\n",
       "      <th></th>\n",
       "      <th>Restaurant_id</th>\n",
       "      <th>Rating</th>\n",
       "    </tr>\n",
       "  </thead>\n",
       "  <tbody>\n",
       "    <tr>\n",
       "      <th>0</th>\n",
       "      <td>id_0</td>\n",
       "      <td>2.0</td>\n",
       "    </tr>\n",
       "    <tr>\n",
       "      <th>1</th>\n",
       "      <td>id_1</td>\n",
       "      <td>2.5</td>\n",
       "    </tr>\n",
       "    <tr>\n",
       "      <th>2</th>\n",
       "      <td>id_2</td>\n",
       "      <td>4.0</td>\n",
       "    </tr>\n",
       "    <tr>\n",
       "      <th>3</th>\n",
       "      <td>id_3</td>\n",
       "      <td>1.0</td>\n",
       "    </tr>\n",
       "    <tr>\n",
       "      <th>4</th>\n",
       "      <td>id_4</td>\n",
       "      <td>4.0</td>\n",
       "    </tr>\n",
       "  </tbody>\n",
       "</table>\n",
       "</div>"
      ],
      "text/plain": [
       "  Restaurant_id  Rating\n",
       "0          id_0     2.0\n",
       "1          id_1     2.5\n",
       "2          id_2     4.0\n",
       "3          id_3     1.0\n",
       "4          id_4     4.0"
      ]
     },
     "execution_count": 12,
     "metadata": {},
     "output_type": "execute_result"
    }
   ],
   "source": [
    "sample_submission.head(5)"
   ]
  },
  {
   "cell_type": "code",
   "execution_count": 13,
   "metadata": {},
   "outputs": [
    {
     "name": "stdout",
     "output_type": "stream",
     "text": [
      "<class 'pandas.core.frame.DataFrame'>\n",
      "RangeIndex: 10000 entries, 0 to 9999\n",
      "Data columns (total 2 columns):\n",
      " #   Column         Non-Null Count  Dtype  \n",
      "---  ------         --------------  -----  \n",
      " 0   Restaurant_id  10000 non-null  object \n",
      " 1   Rating         10000 non-null  float64\n",
      "dtypes: float64(1), object(1)\n",
      "memory usage: 156.4+ KB\n"
     ]
    }
   ],
   "source": [
    "sample_submission.info()"
   ]
  },
  {
   "cell_type": "code",
   "execution_count": 61,
   "metadata": {},
   "outputs": [],
   "source": [
    "# ВАЖНО! дря корректной обработки признаков объединяем трейн и тест в один датасет\n",
    "df_train['sample'] = 1 # помечаем где у нас трейн\n",
    "df_test['sample'] = 0 # помечаем где у нас тест\n",
    "df_test['Rating'] = 0 # в тесте у нас нет значения Rating, мы его должны предсказать, по этому пока просто заполняем нулями\n",
    "\n",
    "data = df_test.append(df_train, sort=False).reset_index(drop=True) # объединяем"
   ]
  },
  {
   "cell_type": "code",
   "execution_count": 62,
   "metadata": {},
   "outputs": [
    {
     "name": "stdout",
     "output_type": "stream",
     "text": [
      "<class 'pandas.core.frame.DataFrame'>\n",
      "RangeIndex: 50000 entries, 0 to 49999\n",
      "Data columns (total 11 columns):\n",
      " #   Column             Non-Null Count  Dtype  \n",
      "---  ------             --------------  -----  \n",
      " 0   Restaurant_id      50000 non-null  object \n",
      " 1   City               50000 non-null  object \n",
      " 2   Cuisine Style      38410 non-null  object \n",
      " 3   Ranking            50000 non-null  float64\n",
      " 4   Price Range        32639 non-null  object \n",
      " 5   Number of Reviews  46800 non-null  float64\n",
      " 6   Reviews            49998 non-null  object \n",
      " 7   URL_TA             50000 non-null  object \n",
      " 8   ID_TA              50000 non-null  object \n",
      " 9   sample             50000 non-null  int64  \n",
      " 10  Rating             50000 non-null  float64\n",
      "dtypes: float64(3), int64(1), object(7)\n",
      "memory usage: 4.2+ MB\n"
     ]
    }
   ],
   "source": [
    "data.info()"
   ]
  },
  {
   "cell_type": "code",
   "execution_count": 63,
   "metadata": {},
   "outputs": [],
   "source": [
    "Restaurant_id = data.Restaurant_id"
   ]
  },
  {
   "cell_type": "markdown",
   "metadata": {},
   "source": [
    "Подробнее по признакам:\n",
    "* City: Город \n",
    "* Cuisine Style: Кухня\n",
    "* Ranking: Ранг ресторана относительно других ресторанов в этом городе\n",
    "* Price Range: Цены в ресторане в 3 категориях\n",
    "* Number of Reviews: Количество отзывов\n",
    "* Reviews: 2 последних отзыва и даты этих отзывов\n",
    "* URL_TA: страница ресторана на 'www.tripadvisor.com' \n",
    "* ID_TA: ID ресторана в TripAdvisor\n",
    "* Rating: Рейтинг ресторана"
   ]
  },
  {
   "cell_type": "code",
   "execution_count": 21,
   "metadata": {},
   "outputs": [
    {
     "data": {
      "text/html": [
       "<div>\n",
       "<style scoped>\n",
       "    .dataframe tbody tr th:only-of-type {\n",
       "        vertical-align: middle;\n",
       "    }\n",
       "\n",
       "    .dataframe tbody tr th {\n",
       "        vertical-align: top;\n",
       "    }\n",
       "\n",
       "    .dataframe thead th {\n",
       "        text-align: right;\n",
       "    }\n",
       "</style>\n",
       "<table border=\"1\" class=\"dataframe\">\n",
       "  <thead>\n",
       "    <tr style=\"text-align: right;\">\n",
       "      <th></th>\n",
       "      <th>Restaurant_id</th>\n",
       "      <th>City</th>\n",
       "      <th>Cuisine Style</th>\n",
       "      <th>Ranking</th>\n",
       "      <th>Price Range</th>\n",
       "      <th>Number of Reviews</th>\n",
       "      <th>Reviews</th>\n",
       "      <th>URL_TA</th>\n",
       "      <th>ID_TA</th>\n",
       "      <th>sample</th>\n",
       "      <th>Rating</th>\n",
       "    </tr>\n",
       "  </thead>\n",
       "  <tbody>\n",
       "    <tr>\n",
       "      <th>26511</th>\n",
       "      <td>id_2223</td>\n",
       "      <td>Berlin</td>\n",
       "      <td>NaN</td>\n",
       "      <td>2225.0</td>\n",
       "      <td>NaN</td>\n",
       "      <td>13.0</td>\n",
       "      <td>[[], []]</td>\n",
       "      <td>/Restaurant_Review-g187323-d1358783-Reviews-Ei...</td>\n",
       "      <td>d1358783</td>\n",
       "      <td>1</td>\n",
       "      <td>4.5</td>\n",
       "    </tr>\n",
       "    <tr>\n",
       "      <th>41047</th>\n",
       "      <td>id_1966</td>\n",
       "      <td>Lyon</td>\n",
       "      <td>['Italian', 'Pizza', 'Fast Food']</td>\n",
       "      <td>2006.0</td>\n",
       "      <td>NaN</td>\n",
       "      <td>NaN</td>\n",
       "      <td>[[], []]</td>\n",
       "      <td>/Restaurant_Review-g207360-d7894408-Reviews-La...</td>\n",
       "      <td>d7894408</td>\n",
       "      <td>1</td>\n",
       "      <td>4.0</td>\n",
       "    </tr>\n",
       "    <tr>\n",
       "      <th>47499</th>\n",
       "      <td>id_3305</td>\n",
       "      <td>Paris</td>\n",
       "      <td>['French', 'Vegetarian Friendly']</td>\n",
       "      <td>3306.0</td>\n",
       "      <td>$</td>\n",
       "      <td>150.0</td>\n",
       "      <td>[['Great food', 'Good value for money, tasty f...</td>\n",
       "      <td>/Restaurant_Review-g187147-d5895229-Reviews-Fl...</td>\n",
       "      <td>d5895229</td>\n",
       "      <td>1</td>\n",
       "      <td>4.0</td>\n",
       "    </tr>\n",
       "    <tr>\n",
       "      <th>17122</th>\n",
       "      <td>id_870</td>\n",
       "      <td>Madrid</td>\n",
       "      <td>['Steakhouse', 'Mediterranean', 'European', 'S...</td>\n",
       "      <td>871.0</td>\n",
       "      <td>$$$$</td>\n",
       "      <td>284.0</td>\n",
       "      <td>[['Supposed to be the best steaks in Madrid', ...</td>\n",
       "      <td>/Restaurant_Review-g187514-d990855-Reviews-Pel...</td>\n",
       "      <td>d990855</td>\n",
       "      <td>1</td>\n",
       "      <td>4.0</td>\n",
       "    </tr>\n",
       "    <tr>\n",
       "      <th>6785</th>\n",
       "      <td>id_6785</td>\n",
       "      <td>Edinburgh</td>\n",
       "      <td>['Italian', 'Mediterranean', 'European', 'Wine...</td>\n",
       "      <td>30.0</td>\n",
       "      <td>$$ - $$$</td>\n",
       "      <td>226.0</td>\n",
       "      <td>[['Wine tasting', 'Great place'], ['01/12/2018...</td>\n",
       "      <td>/Restaurant_Review-g186525-d10496902-Reviews-V...</td>\n",
       "      <td>d10496902</td>\n",
       "      <td>0</td>\n",
       "      <td>0.0</td>\n",
       "    </tr>\n",
       "  </tbody>\n",
       "</table>\n",
       "</div>"
      ],
      "text/plain": [
       "      Restaurant_id       City  \\\n",
       "26511       id_2223     Berlin   \n",
       "41047       id_1966       Lyon   \n",
       "47499       id_3305      Paris   \n",
       "17122        id_870     Madrid   \n",
       "6785        id_6785  Edinburgh   \n",
       "\n",
       "                                           Cuisine Style  Ranking Price Range  \\\n",
       "26511                                                NaN   2225.0         NaN   \n",
       "41047                  ['Italian', 'Pizza', 'Fast Food']   2006.0         NaN   \n",
       "47499                  ['French', 'Vegetarian Friendly']   3306.0           $   \n",
       "17122  ['Steakhouse', 'Mediterranean', 'European', 'S...    871.0        $$$$   \n",
       "6785   ['Italian', 'Mediterranean', 'European', 'Wine...     30.0    $$ - $$$   \n",
       "\n",
       "       Number of Reviews                                            Reviews  \\\n",
       "26511               13.0                                           [[], []]   \n",
       "41047                NaN                                           [[], []]   \n",
       "47499              150.0  [['Great food', 'Good value for money, tasty f...   \n",
       "17122              284.0  [['Supposed to be the best steaks in Madrid', ...   \n",
       "6785               226.0  [['Wine tasting', 'Great place'], ['01/12/2018...   \n",
       "\n",
       "                                                  URL_TA      ID_TA  sample  \\\n",
       "26511  /Restaurant_Review-g187323-d1358783-Reviews-Ei...   d1358783       1   \n",
       "41047  /Restaurant_Review-g207360-d7894408-Reviews-La...   d7894408       1   \n",
       "47499  /Restaurant_Review-g187147-d5895229-Reviews-Fl...   d5895229       1   \n",
       "17122  /Restaurant_Review-g187514-d990855-Reviews-Pel...    d990855       1   \n",
       "6785   /Restaurant_Review-g186525-d10496902-Reviews-V...  d10496902       0   \n",
       "\n",
       "       Rating  \n",
       "26511     4.5  \n",
       "41047     4.0  \n",
       "47499     4.0  \n",
       "17122     4.0  \n",
       "6785      0.0  "
      ]
     },
     "execution_count": 21,
     "metadata": {},
     "output_type": "execute_result"
    }
   ],
   "source": [
    "data.sample(5)"
   ]
  },
  {
   "cell_type": "code",
   "execution_count": 22,
   "metadata": {},
   "outputs": [
    {
     "data": {
      "text/plain": [
       "\"[['Very good reviews!', 'Fine dining in Hakaniemi'], ['12/05/2017', '10/29/2017']]\""
      ]
     },
     "execution_count": 22,
     "metadata": {},
     "output_type": "execute_result"
    }
   ],
   "source": [
    "data.Reviews[1]"
   ]
  },
  {
   "cell_type": "markdown",
   "metadata": {},
   "source": [
    "Как видим, большинство признаков у нас требует очистки и предварительной обработки."
   ]
  },
  {
   "cell_type": "markdown",
   "metadata": {},
   "source": [
    "# Cleaning and Prepping Data\n",
    "Обычно данные содержат в себе кучу мусора, который необходимо почистить, для того чтобы привести их в приемлемый формат. Чистка данных — это необходимый этап решения почти любой реальной задачи.   \n",
    "![](https://analyticsindiamag.com/wp-content/uploads/2018/01/data-cleaning.png)"
   ]
  },
  {
   "cell_type": "markdown",
   "metadata": {},
   "source": [
    "## 1. Обработка NAN \n",
    "У наличия пропусков могут быть разные причины, но пропуски нужно либо заполнить, либо исключить из набора полностью. Но с пропусками нужно быть внимательным, **даже отсутствие информации может быть важным признаком!**   \n",
    "По этому перед обработкой NAN лучше вынести информацию о наличии пропуска как отдельный признак "
   ]
  },
  {
   "cell_type": "code",
   "execution_count": null,
   "metadata": {},
   "outputs": [],
   "source": [
    "# Для примера я возьму столбец Number of Reviews\n",
    "data['Number_of_Reviews_isNAN'] = pd.isna(data['Number of Reviews']).astype('uint8')"
   ]
  },
  {
   "cell_type": "code",
   "execution_count": null,
   "metadata": {},
   "outputs": [],
   "source": [
    "data['Number_of_Reviews_isNAN']"
   ]
  },
  {
   "cell_type": "code",
   "execution_count": 23,
   "metadata": {},
   "outputs": [
    {
     "data": {
      "text/plain": [
       "124.47119658119658"
      ]
     },
     "metadata": {},
     "output_type": "display_data"
    },
    {
     "data": {
      "text/plain": [
       "33.0"
      ]
     },
     "metadata": {},
     "output_type": "display_data"
    },
    {
     "data": {
      "text/plain": [
       "2.0"
      ]
     },
     "metadata": {},
     "output_type": "display_data"
    }
   ],
   "source": [
    "# Посмотрим на распределение значений признака 'Number of Reviews'\n",
    "display(data['Number of Reviews'].mean())\n",
    "display(data['Number of Reviews'].median())\n",
    "display(data['Number of Reviews'].min())"
   ]
  },
  {
   "cell_type": "code",
   "execution_count": 148,
   "metadata": {},
   "outputs": [
    {
     "data": {
      "text/plain": [
       "<matplotlib.axes._subplots.AxesSubplot at 0x7f4f9d680780>"
      ]
     },
     "execution_count": 148,
     "metadata": {},
     "output_type": "execute_result"
    },
    {
     "data": {
      "image/png": "[encoded data removed]",
      "text/plain": [
       "<Figure size 432x288 with 1 Axes>"
      ]
     },
     "metadata": {
      "needs_background": "light"
     },
     "output_type": "display_data"
    }
   ],
   "source": [
    "data[data['Number of Reviews']<200]['Number of Reviews'].hist(bins=100)"
   ]
  },
  {
   "cell_type": "code",
   "execution_count": 64,
   "metadata": {},
   "outputs": [
    {
     "data": {
      "text/plain": [
       "116.56904"
      ]
     },
     "metadata": {},
     "output_type": "display_data"
    },
    {
     "data": {
      "text/plain": [
       "28.0"
      ]
     },
     "metadata": {},
     "output_type": "display_data"
    },
    {
     "data": {
      "text/plain": [
       "<matplotlib.axes._subplots.AxesSubplot at 0x24fc3022b48>"
      ]
     },
     "execution_count": 64,
     "metadata": {},
     "output_type": "execute_result"
    },
    {
     "data": {
      "image/png": "[encoded data removed]",
      "text/plain": [
       "<Figure size 432x288 with 1 Axes>"
      ]
     },
     "metadata": {
      "needs_background": "light"
     },
     "output_type": "display_data"
    }
   ],
   "source": [
    "# Заполнение пропусков средним или медианным значением сильно исказит характер \n",
    "# распределения данных. Заполним пропуски единицами, характер распределения при этом\n",
    "# изменится мало, хотя изменятся статистические характеристики.\n",
    "\n",
    "data['Number of Reviews'].fillna(1, inplace=True)\n",
    "\n",
    "display(data['Number of Reviews'].mean())\n",
    "display(data['Number of Reviews'].median())\n",
    "\n",
    "data[data['Number of Reviews']<200]['Number of Reviews'].hist(bins=100)"
   ]
  },
  {
   "cell_type": "markdown",
   "metadata": {},
   "source": [
    "### 2. Обработка признаков\n",
    "Для начала посмотрим какие признаки у нас могут быть категориальными."
   ]
  },
  {
   "cell_type": "code",
   "execution_count": 150,
   "metadata": {},
   "outputs": [
    {
     "data": {
      "text/plain": [
       "Restaurant_id        13094\n",
       "City                    31\n",
       "Cuisine Style        10732\n",
       "Ranking              12975\n",
       "Price Range              4\n",
       "Number of Reviews     1574\n",
       "Reviews              41858\n",
       "URL_TA               49963\n",
       "ID_TA                49963\n",
       "sample                   2\n",
       "Rating                  10\n",
       "dtype: int64"
      ]
     },
     "execution_count": 150,
     "metadata": {},
     "output_type": "execute_result"
    }
   ],
   "source": [
    "data.nunique(dropna=False)"
   ]
  },
  {
   "cell_type": "markdown",
   "metadata": {},
   "source": [
    "Какие признаки можно считать категориальными?"
   ]
  },
  {
   "cell_type": "markdown",
   "metadata": {},
   "source": [
    "Для кодирования категориальных признаков есть множество подходов:\n",
    "* Label Encoding\n",
    "* One-Hot Encoding\n",
    "* Target Encoding\n",
    "* Hashing\n",
    "\n",
    "Выбор кодирования зависит от признака и выбраной модели.\n",
    "Не будем сейчас сильно погружаться в эту тематику, давайте посмотрим лучше пример с One-Hot Encoding:\n",
    "![](https://i.imgur.com/mtimFxh.png)"
   ]
  },
  {
   "cell_type": "code",
   "execution_count": 65,
   "metadata": {},
   "outputs": [],
   "source": [
    "# для One-Hot Encoding в pandas есть готовая функция - get_dummies. Особенно радует параметр dummy_na\n",
    "#data = pd.get_dummies(data, columns=[ 'City',], dummy_na=True)\n",
    "\n",
    "City_dummies = pd.get_dummies(data.City, drop_first=False)\n",
    "data = pd.concat([data, City_dummies], axis=1)"
   ]
  },
  {
   "cell_type": "code",
   "execution_count": 157,
   "metadata": {},
   "outputs": [
    {
     "data": {
      "text/plain": [
       "Index(['Restaurant_id', 'City', 'Cuisine Style', 'Ranking', 'Price Range',\n",
       "       'Number of Reviews', 'Reviews', 'URL_TA', 'ID_TA', 'sample', 'Rating',\n",
       "       'Amsterdam', 'Athens', 'Barcelona', 'Berlin', 'Bratislava', 'Brussels',\n",
       "       'Budapest', 'Copenhagen', 'Dublin', 'Edinburgh', 'Geneva', 'Hamburg',\n",
       "       'Helsinki', 'Krakow', 'Lisbon', 'Ljubljana', 'London', 'Luxembourg',\n",
       "       'Lyon', 'Madrid', 'Milan', 'Munich', 'Oporto', 'Oslo', 'Paris',\n",
       "       'Prague', 'Rome', 'Stockholm', 'Vienna', 'Warsaw', 'Zurich'],\n",
       "      dtype='object')"
      ]
     },
     "execution_count": 157,
     "metadata": {},
     "output_type": "execute_result"
    }
   ],
   "source": [
    "data.columns"
   ]
  },
  {
   "cell_type": "markdown",
   "metadata": {},
   "source": [
    "> Для некоторых алгоритмов МЛ даже для не категориальных признаков можно применить One-Hot Encoding, и это может улучшить качество модели. Пробуйте разные подходы к кодированию признака - никто не знает заранее, что может взлететь."
   ]
  },
  {
   "cell_type": "markdown",
   "metadata": {},
   "source": [
    "### Обработать другие признаки вы должны самостоятельно!\n",
    "Для обработки других признаков вам возможно придется даже написать свою функцию, а может даже и не одну, но в этом и есть ваша практика в этом модуле!     \n",
    "Следуя подсказкам в модуле вы сможете более подробно узнать, как сделать эти приобразования."
   ]
  },
  {
   "cell_type": "code",
   "execution_count": 158,
   "metadata": {},
   "outputs": [
    {
     "data": {
      "text/html": [
       "<div>\n",
       "<style scoped>\n",
       "    .dataframe tbody tr th:only-of-type {\n",
       "        vertical-align: middle;\n",
       "    }\n",
       "\n",
       "    .dataframe tbody tr th {\n",
       "        vertical-align: top;\n",
       "    }\n",
       "\n",
       "    .dataframe thead th {\n",
       "        text-align: right;\n",
       "    }\n",
       "</style>\n",
       "<table border=\"1\" class=\"dataframe\">\n",
       "  <thead>\n",
       "    <tr style=\"text-align: right;\">\n",
       "      <th></th>\n",
       "      <th>Restaurant_id</th>\n",
       "      <th>City</th>\n",
       "      <th>Cuisine Style</th>\n",
       "      <th>Ranking</th>\n",
       "      <th>Price Range</th>\n",
       "      <th>Number of Reviews</th>\n",
       "      <th>Reviews</th>\n",
       "      <th>URL_TA</th>\n",
       "      <th>ID_TA</th>\n",
       "      <th>sample</th>\n",
       "      <th>...</th>\n",
       "      <th>Munich</th>\n",
       "      <th>Oporto</th>\n",
       "      <th>Oslo</th>\n",
       "      <th>Paris</th>\n",
       "      <th>Prague</th>\n",
       "      <th>Rome</th>\n",
       "      <th>Stockholm</th>\n",
       "      <th>Vienna</th>\n",
       "      <th>Warsaw</th>\n",
       "      <th>Zurich</th>\n",
       "    </tr>\n",
       "  </thead>\n",
       "  <tbody>\n",
       "    <tr>\n",
       "      <th>0</th>\n",
       "      <td>id_0</td>\n",
       "      <td>Paris</td>\n",
       "      <td>['Bar', 'Pub']</td>\n",
       "      <td>12963.0</td>\n",
       "      <td>$$ - $$$</td>\n",
       "      <td>4.0</td>\n",
       "      <td>[[], []]</td>\n",
       "      <td>/Restaurant_Review-g187147-d10746918-Reviews-L...</td>\n",
       "      <td>d10746918</td>\n",
       "      <td>0</td>\n",
       "      <td>...</td>\n",
       "      <td>0</td>\n",
       "      <td>0</td>\n",
       "      <td>0</td>\n",
       "      <td>1</td>\n",
       "      <td>0</td>\n",
       "      <td>0</td>\n",
       "      <td>0</td>\n",
       "      <td>0</td>\n",
       "      <td>0</td>\n",
       "      <td>0</td>\n",
       "    </tr>\n",
       "    <tr>\n",
       "      <th>1</th>\n",
       "      <td>id_1</td>\n",
       "      <td>Helsinki</td>\n",
       "      <td>['European', 'Scandinavian', 'Gluten Free Opti...</td>\n",
       "      <td>106.0</td>\n",
       "      <td>$$ - $$$</td>\n",
       "      <td>97.0</td>\n",
       "      <td>[['Very good reviews!', 'Fine dining in Hakani...</td>\n",
       "      <td>/Restaurant_Review-g189934-d6674944-Reviews-Ra...</td>\n",
       "      <td>d6674944</td>\n",
       "      <td>0</td>\n",
       "      <td>...</td>\n",
       "      <td>0</td>\n",
       "      <td>0</td>\n",
       "      <td>0</td>\n",
       "      <td>0</td>\n",
       "      <td>0</td>\n",
       "      <td>0</td>\n",
       "      <td>0</td>\n",
       "      <td>0</td>\n",
       "      <td>0</td>\n",
       "      <td>0</td>\n",
       "    </tr>\n",
       "    <tr>\n",
       "      <th>2</th>\n",
       "      <td>id_2</td>\n",
       "      <td>Edinburgh</td>\n",
       "      <td>['Vegetarian Friendly']</td>\n",
       "      <td>810.0</td>\n",
       "      <td>$$ - $$$</td>\n",
       "      <td>28.0</td>\n",
       "      <td>[['Better than the Links', 'Ivy Black'], ['12/...</td>\n",
       "      <td>/Restaurant_Review-g186525-d13129638-Reviews-B...</td>\n",
       "      <td>d13129638</td>\n",
       "      <td>0</td>\n",
       "      <td>...</td>\n",
       "      <td>0</td>\n",
       "      <td>0</td>\n",
       "      <td>0</td>\n",
       "      <td>0</td>\n",
       "      <td>0</td>\n",
       "      <td>0</td>\n",
       "      <td>0</td>\n",
       "      <td>0</td>\n",
       "      <td>0</td>\n",
       "      <td>0</td>\n",
       "    </tr>\n",
       "    <tr>\n",
       "      <th>3</th>\n",
       "      <td>id_3</td>\n",
       "      <td>London</td>\n",
       "      <td>['Italian', 'Mediterranean', 'European', 'Vege...</td>\n",
       "      <td>1669.0</td>\n",
       "      <td>$$$$</td>\n",
       "      <td>202.0</td>\n",
       "      <td>[['Most exquisite', 'Delicious and authentic']...</td>\n",
       "      <td>/Restaurant_Review-g186338-d680417-Reviews-Qui...</td>\n",
       "      <td>d680417</td>\n",
       "      <td>0</td>\n",
       "      <td>...</td>\n",
       "      <td>0</td>\n",
       "      <td>0</td>\n",
       "      <td>0</td>\n",
       "      <td>0</td>\n",
       "      <td>0</td>\n",
       "      <td>0</td>\n",
       "      <td>0</td>\n",
       "      <td>0</td>\n",
       "      <td>0</td>\n",
       "      <td>0</td>\n",
       "    </tr>\n",
       "    <tr>\n",
       "      <th>4</th>\n",
       "      <td>id_4</td>\n",
       "      <td>Bratislava</td>\n",
       "      <td>['Italian', 'Mediterranean', 'European', 'Seaf...</td>\n",
       "      <td>37.0</td>\n",
       "      <td>$$$$</td>\n",
       "      <td>162.0</td>\n",
       "      <td>[['Always the best in bratislava', 'Very good ...</td>\n",
       "      <td>/Restaurant_Review-g274924-d1112354-Reviews-Ma...</td>\n",
       "      <td>d1112354</td>\n",
       "      <td>0</td>\n",
       "      <td>...</td>\n",
       "      <td>0</td>\n",
       "      <td>0</td>\n",
       "      <td>0</td>\n",
       "      <td>0</td>\n",
       "      <td>0</td>\n",
       "      <td>0</td>\n",
       "      <td>0</td>\n",
       "      <td>0</td>\n",
       "      <td>0</td>\n",
       "      <td>0</td>\n",
       "    </tr>\n",
       "  </tbody>\n",
       "</table>\n",
       "<p>5 rows × 42 columns</p>\n",
       "</div>"
      ],
      "text/plain": [
       "  Restaurant_id        City  \\\n",
       "0          id_0       Paris   \n",
       "1          id_1    Helsinki   \n",
       "2          id_2   Edinburgh   \n",
       "3          id_3      London   \n",
       "4          id_4  Bratislava   \n",
       "\n",
       "                                       Cuisine Style  Ranking Price Range  \\\n",
       "0                                     ['Bar', 'Pub']  12963.0    $$ - $$$   \n",
       "1  ['European', 'Scandinavian', 'Gluten Free Opti...    106.0    $$ - $$$   \n",
       "2                            ['Vegetarian Friendly']    810.0    $$ - $$$   \n",
       "3  ['Italian', 'Mediterranean', 'European', 'Vege...   1669.0        $$$$   \n",
       "4  ['Italian', 'Mediterranean', 'European', 'Seaf...     37.0        $$$$   \n",
       "\n",
       "   Number of Reviews                                            Reviews  \\\n",
       "0                4.0                                           [[], []]   \n",
       "1               97.0  [['Very good reviews!', 'Fine dining in Hakani...   \n",
       "2               28.0  [['Better than the Links', 'Ivy Black'], ['12/...   \n",
       "3              202.0  [['Most exquisite', 'Delicious and authentic']...   \n",
       "4              162.0  [['Always the best in bratislava', 'Very good ...   \n",
       "\n",
       "                                              URL_TA      ID_TA  sample  ...  \\\n",
       "0  /Restaurant_Review-g187147-d10746918-Reviews-L...  d10746918       0  ...   \n",
       "1  /Restaurant_Review-g189934-d6674944-Reviews-Ra...   d6674944       0  ...   \n",
       "2  /Restaurant_Review-g186525-d13129638-Reviews-B...  d13129638       0  ...   \n",
       "3  /Restaurant_Review-g186338-d680417-Reviews-Qui...    d680417       0  ...   \n",
       "4  /Restaurant_Review-g274924-d1112354-Reviews-Ma...   d1112354       0  ...   \n",
       "\n",
       "   Munich  Oporto  Oslo  Paris  Prague  Rome  Stockholm  Vienna  Warsaw  \\\n",
       "0       0       0     0      1       0     0          0       0       0   \n",
       "1       0       0     0      0       0     0          0       0       0   \n",
       "2       0       0     0      0       0     0          0       0       0   \n",
       "3       0       0     0      0       0     0          0       0       0   \n",
       "4       0       0     0      0       0     0          0       0       0   \n",
       "\n",
       "   Zurich  \n",
       "0       0  \n",
       "1       0  \n",
       "2       0  \n",
       "3       0  \n",
       "4       0  \n",
       "\n",
       "[5 rows x 42 columns]"
      ]
     },
     "execution_count": 158,
     "metadata": {},
     "output_type": "execute_result"
    }
   ],
   "source": [
    "data.head(5)"
   ]
  },
  {
   "cell_type": "code",
   "execution_count": null,
   "metadata": {},
   "outputs": [],
   "source": [
    "data.sample(5)"
   ]
  },
  {
   "cell_type": "markdown",
   "metadata": {},
   "source": [
    "### Обработаем признак **Cuisine Style**.\n",
    "Заполним пропуски значением 'Other', уберем квадратные скобки и кавычки в начале и конце строки.\n",
    "Затем разделим значения в ячейках и, убрав лишние кавычки, преобразуем в список."
   ]
  },
  {
   "cell_type": "code",
   "execution_count": 66,
   "metadata": {},
   "outputs": [
    {
     "data": {
      "text/html": [
       "<div>\n",
       "<style scoped>\n",
       "    .dataframe tbody tr th:only-of-type {\n",
       "        vertical-align: middle;\n",
       "    }\n",
       "\n",
       "    .dataframe tbody tr th {\n",
       "        vertical-align: top;\n",
       "    }\n",
       "\n",
       "    .dataframe thead th {\n",
       "        text-align: right;\n",
       "    }\n",
       "</style>\n",
       "<table border=\"1\" class=\"dataframe\">\n",
       "  <thead>\n",
       "    <tr style=\"text-align: right;\">\n",
       "      <th></th>\n",
       "      <th>Restaurant_id</th>\n",
       "      <th>City</th>\n",
       "      <th>Cuisine Style</th>\n",
       "      <th>Ranking</th>\n",
       "      <th>Price Range</th>\n",
       "      <th>Number of Reviews</th>\n",
       "      <th>Reviews</th>\n",
       "      <th>URL_TA</th>\n",
       "      <th>ID_TA</th>\n",
       "      <th>sample</th>\n",
       "      <th>...</th>\n",
       "      <th>Munich</th>\n",
       "      <th>Oporto</th>\n",
       "      <th>Oslo</th>\n",
       "      <th>Paris</th>\n",
       "      <th>Prague</th>\n",
       "      <th>Rome</th>\n",
       "      <th>Stockholm</th>\n",
       "      <th>Vienna</th>\n",
       "      <th>Warsaw</th>\n",
       "      <th>Zurich</th>\n",
       "    </tr>\n",
       "  </thead>\n",
       "  <tbody>\n",
       "    <tr>\n",
       "      <th>0</th>\n",
       "      <td>id_0</td>\n",
       "      <td>Paris</td>\n",
       "      <td>[Bar, Pub]</td>\n",
       "      <td>12963.0</td>\n",
       "      <td>$$ - $$$</td>\n",
       "      <td>4.0</td>\n",
       "      <td>[[], []]</td>\n",
       "      <td>/Restaurant_Review-g187147-d10746918-Reviews-L...</td>\n",
       "      <td>d10746918</td>\n",
       "      <td>0</td>\n",
       "      <td>...</td>\n",
       "      <td>0</td>\n",
       "      <td>0</td>\n",
       "      <td>0</td>\n",
       "      <td>1</td>\n",
       "      <td>0</td>\n",
       "      <td>0</td>\n",
       "      <td>0</td>\n",
       "      <td>0</td>\n",
       "      <td>0</td>\n",
       "      <td>0</td>\n",
       "    </tr>\n",
       "    <tr>\n",
       "      <th>1</th>\n",
       "      <td>id_1</td>\n",
       "      <td>Helsinki</td>\n",
       "      <td>[European, Scandinavian, Gluten Free Options, ...</td>\n",
       "      <td>106.0</td>\n",
       "      <td>$$ - $$$</td>\n",
       "      <td>97.0</td>\n",
       "      <td>[['Very good reviews!', 'Fine dining in Hakani...</td>\n",
       "      <td>/Restaurant_Review-g189934-d6674944-Reviews-Ra...</td>\n",
       "      <td>d6674944</td>\n",
       "      <td>0</td>\n",
       "      <td>...</td>\n",
       "      <td>0</td>\n",
       "      <td>0</td>\n",
       "      <td>0</td>\n",
       "      <td>0</td>\n",
       "      <td>0</td>\n",
       "      <td>0</td>\n",
       "      <td>0</td>\n",
       "      <td>0</td>\n",
       "      <td>0</td>\n",
       "      <td>0</td>\n",
       "    </tr>\n",
       "    <tr>\n",
       "      <th>2</th>\n",
       "      <td>id_2</td>\n",
       "      <td>Edinburgh</td>\n",
       "      <td>[Vegetarian Friendly]</td>\n",
       "      <td>810.0</td>\n",
       "      <td>$$ - $$$</td>\n",
       "      <td>28.0</td>\n",
       "      <td>[['Better than the Links', 'Ivy Black'], ['12/...</td>\n",
       "      <td>/Restaurant_Review-g186525-d13129638-Reviews-B...</td>\n",
       "      <td>d13129638</td>\n",
       "      <td>0</td>\n",
       "      <td>...</td>\n",
       "      <td>0</td>\n",
       "      <td>0</td>\n",
       "      <td>0</td>\n",
       "      <td>0</td>\n",
       "      <td>0</td>\n",
       "      <td>0</td>\n",
       "      <td>0</td>\n",
       "      <td>0</td>\n",
       "      <td>0</td>\n",
       "      <td>0</td>\n",
       "    </tr>\n",
       "  </tbody>\n",
       "</table>\n",
       "<p>3 rows × 42 columns</p>\n",
       "</div>"
      ],
      "text/plain": [
       "  Restaurant_id       City                                      Cuisine Style  \\\n",
       "0          id_0      Paris                                         [Bar, Pub]   \n",
       "1          id_1   Helsinki  [European, Scandinavian, Gluten Free Options, ...   \n",
       "2          id_2  Edinburgh                              [Vegetarian Friendly]   \n",
       "\n",
       "   Ranking Price Range  Number of Reviews  \\\n",
       "0  12963.0    $$ - $$$                4.0   \n",
       "1    106.0    $$ - $$$               97.0   \n",
       "2    810.0    $$ - $$$               28.0   \n",
       "\n",
       "                                             Reviews  \\\n",
       "0                                           [[], []]   \n",
       "1  [['Very good reviews!', 'Fine dining in Hakani...   \n",
       "2  [['Better than the Links', 'Ivy Black'], ['12/...   \n",
       "\n",
       "                                              URL_TA      ID_TA  sample  ...  \\\n",
       "0  /Restaurant_Review-g187147-d10746918-Reviews-L...  d10746918       0  ...   \n",
       "1  /Restaurant_Review-g189934-d6674944-Reviews-Ra...   d6674944       0  ...   \n",
       "2  /Restaurant_Review-g186525-d13129638-Reviews-B...  d13129638       0  ...   \n",
       "\n",
       "   Munich  Oporto  Oslo  Paris  Prague  Rome  Stockholm  Vienna  Warsaw  \\\n",
       "0       0       0     0      1       0     0          0       0       0   \n",
       "1       0       0     0      0       0     0          0       0       0   \n",
       "2       0       0     0      0       0     0          0       0       0   \n",
       "\n",
       "   Zurich  \n",
       "0       0  \n",
       "1       0  \n",
       "2       0  \n",
       "\n",
       "[3 rows x 42 columns]"
      ]
     },
     "execution_count": 66,
     "metadata": {},
     "output_type": "execute_result"
    }
   ],
   "source": [
    "data['Cuisine Style'] = data['Cuisine Style'].fillna(\"['Other']\").apply(\n",
    "    lambda x: x[2:-2]) # убираем по 2 символа по краям (\"['\" и \"']\")\n",
    "\n",
    "data['Cuisine Style'] = data['Cuisine Style'].apply(lambda x: x.split(\"', '\"))\n",
    "\n",
    "data.head(3)"
   ]
  },
  {
   "cell_type": "code",
   "execution_count": 67,
   "metadata": {},
   "outputs": [
    {
     "data": {
      "text/plain": [
       "125"
      ]
     },
     "execution_count": 67,
     "metadata": {},
     "output_type": "execute_result"
    }
   ],
   "source": [
    "# Сколько типов кухонь представлено в наборе данных?\n",
    "\n",
    "def cuisines_count(a):\n",
    "    for i in a:\n",
    "        if i in cuisines_dict:\n",
    "            cuisines_dict[i] += 1\n",
    "        else:\n",
    "            cuisines_dict[i] = 1\n",
    "    return cuisines_dict\n",
    "\n",
    "\n",
    "cuisines_dict = {} \n",
    "# ключи словаря - названия кухонь, значения - количество упоминаний\n",
    "\n",
    "data['Cuisine Style'].apply(cuisines_count)\n",
    "\n",
    "cuisines_series = pd.Series(cuisines_dict).sort_values(ascending=False)\n",
    "#print(cuisines_dict)\n",
    "\n",
    "len(cuisines_series)-1 # За вычетом значений 'Other' "
   ]
  },
  {
   "cell_type": "code",
   "execution_count": 161,
   "metadata": {},
   "outputs": [
    {
     "data": {
      "text/plain": [
       "Vegetarian Friendly    14021\n",
       "European               12561\n",
       "Other                  11590\n",
       "Mediterranean           7820\n",
       "Italian                 7433\n",
       "Vegan Options           5684\n",
       "Gluten Free Options     5185\n",
       "Bar                     4094\n",
       "French                  3970\n",
       "Asian                   3786\n",
       "dtype: int64"
      ]
     },
     "execution_count": 161,
     "metadata": {},
     "output_type": "execute_result"
    }
   ],
   "source": [
    "# Какая кухня представлена в наибольшем количестве ресторанов?\n",
    "cuisines_series[:10]"
   ]
  },
  {
   "cell_type": "markdown",
   "metadata": {},
   "source": [
    "### Обработаем признак **Reviews**.\n",
    "\n",
    "В столбце Reviews имеем ячейки без отзывов, с 1 отзывом и 2 отзывами. \n",
    "\n",
    "Очищаем данные: \n",
    "  1. заменим ячейки '[[], []]' на None, уберем квадратные скобки, заменим двойные кавычки на одинарные, 'nan' - на \"'nan'\". \n",
    "  2. уберем кавычки в начале и конце строки, затем разделим значения в ячейках и, убрав лишние (внутренние) кавычки, преобразуем в список."
   ]
  },
  {
   "cell_type": "code",
   "execution_count": 68,
   "metadata": {},
   "outputs": [
    {
     "name": "stdout",
     "output_type": "stream",
     "text": [
      "Количество строк с 2 отзывами: 36206\n",
      "Количество строк с 1 отзывом 5680\n",
      "Количество пустых строк: 8114\n"
     ]
    }
   ],
   "source": [
    "data.Reviews = data.Reviews.apply(\n",
    "    lambda x: '[[], []]' if type(x)!=str else x)\n",
    "\n",
    "data.Reviews = data.Reviews.apply(\n",
    "    lambda x: None if x == '[[], []]' else x.replace(\n",
    "        '[','').replace(']','').replace('\"',\"'\").replace('nan',\"'nan'\"))\n",
    "\n",
    "data.Reviews = data.Reviews.apply(\n",
    "    lambda x: None if x==None else x[1:-1].split(\"', '\"))\n",
    "\n",
    "# Посчитаем распределение по количеству отзывов:\n",
    "df_temp = data.copy()\n",
    "df_temp['Rev_count'] = data.Reviews.apply(\n",
    "    lambda x: int(len(x)) if x!= None else 0)\n",
    "\n",
    "print('Количество строк с 2 отзывами:',\\\n",
    "      df_temp.query('Rev_count==4')['Reviews'].shape[0])\n",
    "print('Количество строк с 1 отзывом',\\\n",
    "      df_temp.query('Rev_count==2')['Reviews'].shape[0])\n",
    "print('Количество пустых строк:', data.Reviews.isna().sum())"
   ]
  },
  {
   "cell_type": "markdown",
   "metadata": {},
   "source": [
    "### Выделим временные показатели"
   ]
  },
  {
   "cell_type": "code",
   "execution_count": 69,
   "metadata": {},
   "outputs": [],
   "source": [
    "from datetime import datetime, timedelta\n",
    "\n",
    "# Функция для создания отдельных столбцов с датами отзывов\n",
    "def dates(x):\n",
    "    if x == None:\n",
    "        return [x, x]\n",
    "    elif len(x) == 2: \n",
    "        # При наличии только 1 отзыва ставим во 2-й столбец None!!!\n",
    "        return [datetime.strptime(x[1], '%m/%d/%Y'), None]\n",
    "    else:\n",
    "        return [datetime.strptime(x[-2], '%m/%d/%Y'\n",
    "                                 ), datetime.strptime(x[-1],'%m/%d/%Y')]\n",
    "\n",
    "\n",
    "# Создадим столбец с датами отзывов\n",
    "data['Rev_dates'] = data.Reviews.apply(dates)\n",
    "\n",
    "# Разделим даты на 2 столбца:\n",
    "data['Rev_date1'] = data.Rev_dates.apply(lambda x: x[0])\n",
    "data['Rev_date2'] = data.Rev_dates.apply(lambda x: x[1])\n",
    "\n",
    "# Удалим столбец Rev_dates за ненадобностью\n",
    "data = data.drop(['Rev_dates'], axis = 1)"
   ]
  },
  {
   "cell_type": "code",
   "execution_count": 164,
   "metadata": {},
   "outputs": [
    {
     "data": {
      "text/html": [
       "<div>\n",
       "<style scoped>\n",
       "    .dataframe tbody tr th:only-of-type {\n",
       "        vertical-align: middle;\n",
       "    }\n",
       "\n",
       "    .dataframe tbody tr th {\n",
       "        vertical-align: top;\n",
       "    }\n",
       "\n",
       "    .dataframe thead th {\n",
       "        text-align: right;\n",
       "    }\n",
       "</style>\n",
       "<table border=\"1\" class=\"dataframe\">\n",
       "  <thead>\n",
       "    <tr style=\"text-align: right;\">\n",
       "      <th></th>\n",
       "      <th>Restaurant_id</th>\n",
       "      <th>City</th>\n",
       "      <th>Cuisine Style</th>\n",
       "      <th>Ranking</th>\n",
       "      <th>Price Range</th>\n",
       "      <th>Number of Reviews</th>\n",
       "      <th>Reviews</th>\n",
       "      <th>URL_TA</th>\n",
       "      <th>ID_TA</th>\n",
       "      <th>sample</th>\n",
       "      <th>...</th>\n",
       "      <th>Oslo</th>\n",
       "      <th>Paris</th>\n",
       "      <th>Prague</th>\n",
       "      <th>Rome</th>\n",
       "      <th>Stockholm</th>\n",
       "      <th>Vienna</th>\n",
       "      <th>Warsaw</th>\n",
       "      <th>Zurich</th>\n",
       "      <th>Rev_date1</th>\n",
       "      <th>Rev_date2</th>\n",
       "    </tr>\n",
       "  </thead>\n",
       "  <tbody>\n",
       "    <tr>\n",
       "      <th>31263</th>\n",
       "      <td>id_3057</td>\n",
       "      <td>Rome</td>\n",
       "      <td>[Italian, French]</td>\n",
       "      <td>3058.0</td>\n",
       "      <td>$$ - $$$</td>\n",
       "      <td>40.0</td>\n",
       "      <td>None</td>\n",
       "      <td>/Restaurant_Review-g187791-d12347521-Reviews-C...</td>\n",
       "      <td>d12347521</td>\n",
       "      <td>1</td>\n",
       "      <td>...</td>\n",
       "      <td>0</td>\n",
       "      <td>0</td>\n",
       "      <td>0</td>\n",
       "      <td>1</td>\n",
       "      <td>0</td>\n",
       "      <td>0</td>\n",
       "      <td>0</td>\n",
       "      <td>0</td>\n",
       "      <td>NaT</td>\n",
       "      <td>NaT</td>\n",
       "    </tr>\n",
       "  </tbody>\n",
       "</table>\n",
       "<p>1 rows × 44 columns</p>\n",
       "</div>"
      ],
      "text/plain": [
       "      Restaurant_id  City      Cuisine Style  Ranking Price Range  \\\n",
       "31263       id_3057  Rome  [Italian, French]   3058.0    $$ - $$$   \n",
       "\n",
       "       Number of Reviews Reviews  \\\n",
       "31263               40.0    None   \n",
       "\n",
       "                                                  URL_TA      ID_TA  sample  \\\n",
       "31263  /Restaurant_Review-g187791-d12347521-Reviews-C...  d12347521       1   \n",
       "\n",
       "       ...  Oslo  Paris  Prague  Rome  Stockholm  Vienna  Warsaw  Zurich  \\\n",
       "31263  ...     0      0       0     1          0       0       0       0   \n",
       "\n",
       "       Rev_date1  Rev_date2  \n",
       "31263        NaT        NaT  \n",
       "\n",
       "[1 rows x 44 columns]"
      ]
     },
     "execution_count": 164,
     "metadata": {},
     "output_type": "execute_result"
    }
   ],
   "source": [
    "data[data.Rev_date2.isna()].sample()"
   ]
  },
  {
   "cell_type": "code",
   "execution_count": 165,
   "metadata": {},
   "outputs": [
    {
     "data": {
      "text/plain": [
       "Timestamp('2018-02-26 00:00:00')"
      ]
     },
     "metadata": {},
     "output_type": "display_data"
    },
    {
     "data": {
      "text/plain": [
       "Timestamp('2018-02-26 00:00:00')"
      ]
     },
     "metadata": {},
     "output_type": "display_data"
    }
   ],
   "source": [
    "# Когда был оставлен самый свежий отзыв?\n",
    "\n",
    "display(data.Rev_date1.max())\n",
    "display(data.Rev_date2.max())"
   ]
  },
  {
   "cell_type": "code",
   "execution_count": 166,
   "metadata": {},
   "outputs": [
    {
     "data": {
      "text/plain": [
       "Timestamp('2004-04-21 00:00:00')"
      ]
     },
     "metadata": {},
     "output_type": "display_data"
    },
    {
     "data": {
      "text/plain": [
       "Timestamp('2007-11-14 00:00:00')"
      ]
     },
     "metadata": {},
     "output_type": "display_data"
    }
   ],
   "source": [
    "# Когда был оставлен самый давний отзыв?\n",
    "\n",
    "display(data.Rev_date1.min())\n",
    "display(data.Rev_date2.min())"
   ]
  },
  {
   "cell_type": "code",
   "execution_count": 70,
   "metadata": {},
   "outputs": [],
   "source": [
    "data1 = data.copy()"
   ]
  },
  {
   "cell_type": "code",
   "execution_count": 71,
   "metadata": {},
   "outputs": [
    {
     "name": "stdout",
     "output_type": "stream",
     "text": [
      "<class 'pandas.core.frame.DataFrame'>\n",
      "RangeIndex: 50000 entries, 0 to 49999\n",
      "Data columns (total 44 columns):\n",
      " #   Column             Non-Null Count  Dtype         \n",
      "---  ------             --------------  -----         \n",
      " 0   Restaurant_id      50000 non-null  object        \n",
      " 1   City               50000 non-null  object        \n",
      " 2   Cuisine Style      50000 non-null  object        \n",
      " 3   Ranking            50000 non-null  float64       \n",
      " 4   Price Range        32639 non-null  object        \n",
      " 5   Number of Reviews  50000 non-null  float64       \n",
      " 6   Reviews            41886 non-null  object        \n",
      " 7   URL_TA             50000 non-null  object        \n",
      " 8   ID_TA              50000 non-null  object        \n",
      " 9   sample             50000 non-null  int64         \n",
      " 10  Rating             50000 non-null  float64       \n",
      " 11  Amsterdam          50000 non-null  uint8         \n",
      " 12  Athens             50000 non-null  uint8         \n",
      " 13  Barcelona          50000 non-null  uint8         \n",
      " 14  Berlin             50000 non-null  uint8         \n",
      " 15  Bratislava         50000 non-null  uint8         \n",
      " 16  Brussels           50000 non-null  uint8         \n",
      " 17  Budapest           50000 non-null  uint8         \n",
      " 18  Copenhagen         50000 non-null  uint8         \n",
      " 19  Dublin             50000 non-null  uint8         \n",
      " 20  Edinburgh          50000 non-null  uint8         \n",
      " 21  Geneva             50000 non-null  uint8         \n",
      " 22  Hamburg            50000 non-null  uint8         \n",
      " 23  Helsinki           50000 non-null  uint8         \n",
      " 24  Krakow             50000 non-null  uint8         \n",
      " 25  Lisbon             50000 non-null  uint8         \n",
      " 26  Ljubljana          50000 non-null  uint8         \n",
      " 27  London             50000 non-null  uint8         \n",
      " 28  Luxembourg         50000 non-null  uint8         \n",
      " 29  Lyon               50000 non-null  uint8         \n",
      " 30  Madrid             50000 non-null  uint8         \n",
      " 31  Milan              50000 non-null  uint8         \n",
      " 32  Munich             50000 non-null  uint8         \n",
      " 33  Oporto             50000 non-null  uint8         \n",
      " 34  Oslo               50000 non-null  uint8         \n",
      " 35  Paris              50000 non-null  uint8         \n",
      " 36  Prague             50000 non-null  uint8         \n",
      " 37  Rome               50000 non-null  uint8         \n",
      " 38  Stockholm          50000 non-null  uint8         \n",
      " 39  Vienna             50000 non-null  uint8         \n",
      " 40  Warsaw             50000 non-null  uint8         \n",
      " 41  Zurich             50000 non-null  uint8         \n",
      " 42  Rev_date1          41886 non-null  datetime64[ns]\n",
      " 43  Rev_date2          36206 non-null  datetime64[ns]\n",
      "dtypes: datetime64[ns](2), float64(3), int64(1), object(7), uint8(31)\n",
      "memory usage: 6.4+ MB\n"
     ]
    }
   ],
   "source": [
    "data.info()"
   ]
  },
  {
   "cell_type": "markdown",
   "metadata": {},
   "source": [
    "## Добавим новые числовые признаки:\n",
    "\n",
    "**Cuisine_Variety** - количество видов кухни в меню\n",
    "\n",
    "**City_Competition** - ординальная оценка конкурентности среды. За каждые 500 ресторанов в конкретном городе (количество рассчитано по данным столбца *City*) присваивается 1 балл; результат увеличивается на 1 (во избежание нулевых значений).\n",
    "\n",
    "**Price_Grade** - ценовой диапазон, приведенный к ординальному виду: **`'$'`** соответстует **1**, **`'$$-$$$'`** соответстует **2**, **`'$$$$'`** соответстует **3**. Вместо `NaN` проставим **4** (может, в отсуствии данных о ценовом диапазоне есть какой-то умысел?).\n",
    "\n",
    "**Rank_Norm** - нормализованный рэнкинг. Определяется следующим образом: разница между количеством ресторанов в городе (найденным не по данным *City*, но по максимальному месту в городе согласно данным *Ranking*) и занимаемым местом (*Ranking*) делится на количество ресторанов в городе и умножается на 100. Результат увеличивается на 1 (во избежание нулевых значений).\n",
    "\n",
    "**Rev_delta** - разница по времени между двумя отзывами (в днях).\n",
    "\n",
    "**Rev_fresh** - сколько дней прошло с даты последнего отзыва.\n",
    "\n",
    "**Has_Local** - указывает на то, есть ли среди предлагаемых рестораном видов кухня, \"соответствующая\" стране нахождения."
   ]
  },
  {
   "cell_type": "markdown",
   "metadata": {},
   "source": [
    "### Cuisine_Variety"
   ]
  },
  {
   "cell_type": "code",
   "execution_count": 72,
   "metadata": {},
   "outputs": [
    {
     "data": {
      "text/plain": [
       "<matplotlib.axes._subplots.AxesSubplot at 0x24fc886bc88>"
      ]
     },
     "execution_count": 72,
     "metadata": {},
     "output_type": "execute_result"
    },
    {
     "data": {
      "image/png": "[encoded data removed]",
      "text/plain": [
       "<Figure size 432x288 with 1 Axes>"
      ]
     },
     "metadata": {
      "needs_background": "light"
     },
     "output_type": "display_data"
    }
   ],
   "source": [
    "data['Cuisine_Variety'] = data['Cuisine Style'].apply(lambda x: len(x))\n",
    "\n",
    "data.Cuisine_Variety.hist(bins=20)"
   ]
  },
  {
   "cell_type": "markdown",
   "metadata": {},
   "source": [
    "### City_Competition"
   ]
  },
  {
   "cell_type": "code",
   "execution_count": 73,
   "metadata": {},
   "outputs": [
    {
     "name": "stdout",
     "output_type": "stream",
     "text": [
      "{'London': 7193, 'Paris': 6108, 'Madrid': 3813, 'Barcelona': 3395, 'Berlin': 2705, 'Milan': 2694, 'Rome': 2589, 'Prague': 1816, 'Lisbon': 1647, 'Vienna': 1443, 'Amsterdam': 1372, 'Brussels': 1314, 'Hamburg': 1186, 'Munich': 1145, 'Lyon': 1126, 'Stockholm': 1033, 'Budapest': 1021, 'Warsaw': 925, 'Dublin': 836, 'Copenhagen': 819, 'Athens': 776, 'Edinburgh': 745, 'Zurich': 685, 'Oporto': 642, 'Geneva': 590, 'Krakow': 554, 'Oslo': 488, 'Helsinki': 475, 'Bratislava': 380, 'Luxembourg': 263, 'Ljubljana': 222}\n"
     ]
    }
   ],
   "source": [
    "City_dict = {}\n",
    "for i in range(len(data.City.value_counts())):\n",
    "    City_dict[data.City.value_counts().index[i]\n",
    "             ] = data.City.value_counts()[i]\n",
    "print(City_dict)    \n",
    "\n",
    "data['City_Competition'] = data.City.apply(lambda x: City_dict[x]//500+1)"
   ]
  },
  {
   "cell_type": "code",
   "execution_count": 175,
   "metadata": {},
   "outputs": [
    {
     "data": {
      "text/plain": [
       "<matplotlib.axes._subplots.AxesSubplot at 0x7f4f9d0fae10>"
      ]
     },
     "execution_count": 175,
     "metadata": {},
     "output_type": "execute_result"
    },
    {
     "data": {
      "image/png": "[encoded data removed]",
      "text/plain": [
       "<Figure size 432x288 with 1 Axes>"
      ]
     },
     "metadata": {
      "needs_background": "light"
     },
     "output_type": "display_data"
    }
   ],
   "source": [
    "data.City_Competition.hist(bins=10, align='right')"
   ]
  },
  {
   "cell_type": "markdown",
   "metadata": {},
   "source": [
    "### Price_Grade"
   ]
  },
  {
   "cell_type": "code",
   "execution_count": 177,
   "metadata": {},
   "outputs": [
    {
     "data": {
      "text/plain": [
       "$$ - $$$    23041\n",
       "$            7816\n",
       "$$$$         1782\n",
       "Name: Price Range, dtype: int64"
      ]
     },
     "execution_count": 177,
     "metadata": {},
     "output_type": "execute_result"
    }
   ],
   "source": [
    "data['Price Range'].value_counts()"
   ]
  },
  {
   "cell_type": "code",
   "execution_count": 74,
   "metadata": {},
   "outputs": [
    {
     "data": {
      "text/plain": [
       "2    23041\n",
       "4    17361\n",
       "1     7816\n",
       "3     1782\n",
       "Name: Price_Grade, dtype: int64"
      ]
     },
     "execution_count": 74,
     "metadata": {},
     "output_type": "execute_result"
    }
   ],
   "source": [
    "# Заполним пустые ячейки числом 4\n",
    "# Может, в отсутствии информации об уровне цен есть какой-то умысел?\n",
    "\n",
    " \n",
    "def price(x):  \n",
    "    if x == '$': \n",
    "        return int(1)\n",
    "    elif x == '$$ - $$$':\n",
    "        return int(2) \n",
    "    elif x == '$$$$':\n",
    "        return int(3)\n",
    "    else:\n",
    "        return int(4)\n",
    "\n",
    "\n",
    "data['Price_Grade'] = data['Price Range'].apply(lambda x: price(x))\n",
    "data.Price_Grade.value_counts()"
   ]
  },
  {
   "cell_type": "markdown",
   "metadata": {},
   "source": [
    "Также попробуем оценить влияние **Price Range** с помощью dummie-переменных."
   ]
  },
  {
   "cell_type": "code",
   "execution_count": 75,
   "metadata": {},
   "outputs": [],
   "source": [
    "# С помощью метода get_dummies преобразуем признак 'Price_Range' в \n",
    "# dummy-переменные.\n",
    "\n",
    "Price_dummies = pd.get_dummies(data['Price Range'], drop_first=False)\n",
    "\n",
    "# Добавим в датафрейм получившиеся признаки.\n",
    "data['$'] = Price_dummies['$']\n",
    "data['$$_$$$'] = Price_dummies['$$ - $$$']\n",
    "data['$$$$'] = Price_dummies['$$$$']\n",
    "\n",
    "# Удалим столбец 'Price_Range'\n",
    "data = data.drop(['Price Range'], axis = 1)"
   ]
  },
  {
   "cell_type": "markdown",
   "metadata": {},
   "source": [
    "### Rank_Norm "
   ]
  },
  {
   "cell_type": "code",
   "execution_count": 185,
   "metadata": {},
   "outputs": [
    {
     "data": {
      "text/plain": [
       "<matplotlib.axes._subplots.AxesSubplot at 0x7f4f9b90bf60>"
      ]
     },
     "execution_count": 185,
     "metadata": {},
     "output_type": "execute_result"
    },
    {
     "data": {
      "image/png": "[encoded data removed]",
      "text/plain": [
       "<Figure size 432x288 with 1 Axes>"
      ]
     },
     "metadata": {
      "needs_background": "light"
     },
     "output_type": "display_data"
    }
   ],
   "source": [
    "data.Ranking.hist(bins=1000)"
   ]
  },
  {
   "cell_type": "code",
   "execution_count": 76,
   "metadata": {},
   "outputs": [],
   "source": [
    "# Функция для исключения нулевых значений\n",
    "def increaser(x):\n",
    "    if abs(x)<0.01:\n",
    "        return int(0.01)\n",
    "    else:\n",
    "        return x\n",
    "    \n",
    "    \n",
    "Rank_dict = {}\n",
    "# Словарь, ключами которого являются названия городов, значениями - \n",
    "# количество ресторанов в городской агломерации на основании столбца\n",
    "# Ranking (принимаем максимальное значение Ranking за это количество)\n",
    "\n",
    "\n",
    "for i in range(len(data.City.value_counts())):\n",
    "    Rank_dict[data.City.value_counts().index[i]] = data[\n",
    "        data.City==data.City.value_counts().index[i]].Ranking.max()\n",
    "\n",
    "\n",
    "data['temp'] = data.City.apply(lambda x: Rank_dict[x])\n",
    "data['Rank_Norm'] = round(100 *(data.temp - data.Ranking) / data.temp, 1)\n",
    "\n",
    "data['Rank_Norm'] = data.Rank_Norm.apply(increaser)\n",
    "data = data.drop('temp', axis = 1)"
   ]
  },
  {
   "cell_type": "code",
   "execution_count": 191,
   "metadata": {},
   "outputs": [
    {
     "data": {
      "text/plain": [
       "<matplotlib.axes._subplots.AxesSubplot at 0x7f4f9b941ef0>"
      ]
     },
     "execution_count": 191,
     "metadata": {},
     "output_type": "execute_result"
    },
    {
     "data": {
      "image/png": "[encoded data removed]",
      "text/plain": [
       "<Figure size 432x288 with 1 Axes>"
      ]
     },
     "metadata": {
      "needs_background": "light"
     },
     "output_type": "display_data"
    }
   ],
   "source": [
    "data.Rank_Norm.hist(bins=1000)"
   ]
  },
  {
   "cell_type": "markdown",
   "metadata": {},
   "source": [
    "### Rev_delta"
   ]
  },
  {
   "cell_type": "code",
   "execution_count": 77,
   "metadata": {},
   "outputs": [
    {
     "name": "stdout",
     "output_type": "stream",
     "text": [
      "67 days 00:00:00\n",
      "142 days 13:10:19.057614\n"
     ]
    },
    {
     "data": {
      "text/plain": [
       "13794"
      ]
     },
     "execution_count": 77,
     "metadata": {},
     "output_type": "execute_result"
    }
   ],
   "source": [
    "data['Rev_delta'] = abs(data.Rev_date1 - data.Rev_date2)\n",
    "\n",
    "print(data.Rev_delta.median())\n",
    "print(data.Rev_delta.mean())\n",
    "\n",
    "data['Rev_delta'].isna().sum()"
   ]
  },
  {
   "cell_type": "code",
   "execution_count": 78,
   "metadata": {},
   "outputs": [
    {
     "data": {
      "text/plain": [
       "0"
      ]
     },
     "execution_count": 78,
     "metadata": {},
     "output_type": "execute_result"
    }
   ],
   "source": [
    "# Заполним пустые ячейки НУЛЕВЫМ значением\n",
    "data['Rev_delta'].fillna(data['Rev_delta'].min(), inplace=True)\n",
    "data['Rev_delta'].isna().sum()"
   ]
  },
  {
   "cell_type": "markdown",
   "metadata": {},
   "source": [
    "### Rev_fresh"
   ]
  },
  {
   "cell_type": "code",
   "execution_count": 79,
   "metadata": {},
   "outputs": [],
   "source": [
    "# Функция для перевода datetime в число\n",
    "def date_to_int(x):\n",
    "    if str(x)=='NaT':\n",
    "        return x\n",
    "    else:\n",
    "        return int(str(x)[:10].replace('-',''))\n",
    "\n",
    "\n",
    "# Переведем текущую дату в формат ГГГГ-ММ-ДД\n",
    "today = datetime.strptime(datetime.now().strftime(\"%Y-%m-%d\"),\"%Y-%m-%d\")\n",
    "data['Rev_fresh'] = today - data.Rev_date1\n",
    "\n",
    "# Заполним пустые ячейки медианным значением\n",
    "data['Rev_fresh'].fillna(data['Rev_fresh'].median(), inplace=True)"
   ]
  },
  {
   "cell_type": "markdown",
   "metadata": {},
   "source": [
    "### Has_Local"
   ]
  },
  {
   "cell_type": "code",
   "execution_count": 80,
   "metadata": {},
   "outputs": [],
   "source": [
    "# Добавим столбец 'Local_Cuisine',содержащий информацию о кухне,наиболее\n",
    "# \"соответствующей\" местоположению ресторана (Прага - чешская и т.д.).\n",
    "\n",
    "Country_dict={\n",
    "    'London': 'British', 'Paris': 'French', 'Madrid': 'Spanish', \n",
    "    'Barcelona': 'Spanish', 'Berlin': 'German', 'Milan': 'Italian',\n",
    "    'Rome': 'Italian', 'Prague': 'Czech', 'Lisbon': 'Portuguese', \n",
    "    'Vienna': 'Austrian', 'Amsterdam': 'Dutch', 'Brussels': 'Belgian',\n",
    "    'Hamburg': 'German', 'Munich': 'German', 'Lyon': 'French', \n",
    "    'Stockholm': 'Swedish', 'Budapest': 'Hungarian', 'Warsaw': 'Polish',\n",
    "    'Dublin': 'Irish', 'Copenhagen': 'Danish', 'Athens': 'Greek',\n",
    "    'Edinburgh': 'Scottish', 'Zurich': 'Swiss', 'Oporto': 'Portuguese',\n",
    "    'Geneva': 'Swiss', 'Krakow': 'Polish', 'Oslo': 'Norwegian', \n",
    "    'Helsinki': 'Scandinavian', 'Bratislava': 'Czech', \n",
    "    'Luxembourg': 'Belgian', 'Ljubljana': 'Slovenian'}\n",
    "\n",
    "\n",
    "def region(x):\n",
    "    return Country_dict[x]\n",
    "\n",
    "\n",
    "data['Local_Cuisine'] = data.City.apply(region)"
   ]
  },
  {
   "cell_type": "code",
   "execution_count": 81,
   "metadata": {},
   "outputs": [
    {
     "name": "stderr",
     "output_type": "stream",
     "text": [
      "C:\\ProgramData\\Anaconda3\\lib\\site-packages\\pandas\\core\\indexing.py:670: SettingWithCopyWarning: \n",
      "A value is trying to be set on a copy of a slice from a DataFrame\n",
      "\n",
      "See the caveats in the documentation: https://pandas.pydata.org/pandas-docs/stable/user_guide/indexing.html#returning-a-view-versus-a-copy\n",
      "  self._setitem_with_indexer(indexer, value)\n"
     ]
    }
   ],
   "source": [
    "data['Has_Local'] = data['Local_Cuisine']\n",
    "\n",
    "for i in range(len(data['Local_Cuisine'])):\n",
    "    if data['Local_Cuisine'].loc[i] in data['Cuisine Style'].loc[i]:\n",
    "        data['Has_Local'].loc[i] = 1\n",
    "    else:\n",
    "        data['Has_Local'].loc[i] = 0\n",
    "    \n",
    "data['Has_Local'] = data.Has_Local.apply(lambda x: int(x))"
   ]
  },
  {
   "cell_type": "code",
   "execution_count": 224,
   "metadata": {},
   "outputs": [
    {
     "data": {
      "text/plain": [
       "Index(['Restaurant_id', 'City', 'Cuisine Style', 'Ranking',\n",
       "       'Number of Reviews', 'Reviews', 'URL_TA', 'ID_TA', 'sample', 'Rating',\n",
       "       'Amsterdam', 'Athens', 'Barcelona', 'Berlin', 'Bratislava', 'Brussels',\n",
       "       'Budapest', 'Copenhagen', 'Dublin', 'Edinburgh', 'Geneva', 'Hamburg',\n",
       "       'Helsinki', 'Krakow', 'Lisbon', 'Ljubljana', 'London', 'Luxembourg',\n",
       "       'Lyon', 'Madrid', 'Milan', 'Munich', 'Oporto', 'Oslo', 'Paris',\n",
       "       'Prague', 'Rome', 'Stockholm', 'Vienna', 'Warsaw', 'Zurich',\n",
       "       'Rev_date1', 'Rev_date2', 'Cuisine_Variety', 'City_Competition',\n",
       "       'Price_Grade', '$', '$$_$$$', '$$$$', 'Rank_Norm', 'Rev_delta',\n",
       "       'Rev_fresh', 'Local_Cuisine', 'Has_Local'],\n",
       "      dtype='object')"
      ]
     },
     "execution_count": 224,
     "metadata": {},
     "output_type": "execute_result"
    }
   ],
   "source": [
    "data.columns"
   ]
  },
  {
   "cell_type": "markdown",
   "metadata": {},
   "source": [
    "### Резервная копия датафрейма"
   ]
  },
  {
   "cell_type": "code",
   "execution_count": 82,
   "metadata": {},
   "outputs": [],
   "source": [
    "data2 = data.copy()"
   ]
  },
  {
   "cell_type": "code",
   "execution_count": 83,
   "metadata": {},
   "outputs": [],
   "source": [
    "# Удалим ненужные столбцы и сохраним копию датафрейма\n",
    "\n",
    "data = data.drop(['Restaurant_id','City','Reviews','URL_TA','ID_TA',\n",
    "                  'Rev_date1','Rev_date2','Local_Cuisine',\n",
    "                  'Cuisine Style'\n",
    "                 ], axis=1)"
   ]
  },
  {
   "cell_type": "code",
   "execution_count": 84,
   "metadata": {},
   "outputs": [
    {
     "name": "stdout",
     "output_type": "stream",
     "text": [
      "<class 'pandas.core.frame.DataFrame'>\n",
      "RangeIndex: 50000 entries, 0 to 49999\n",
      "Data columns (total 45 columns):\n",
      " #   Column             Non-Null Count  Dtype          \n",
      "---  ------             --------------  -----          \n",
      " 0   Ranking            50000 non-null  float64        \n",
      " 1   Number of Reviews  50000 non-null  float64        \n",
      " 2   sample             50000 non-null  int64          \n",
      " 3   Rating             50000 non-null  float64        \n",
      " 4   Amsterdam          50000 non-null  uint8          \n",
      " 5   Athens             50000 non-null  uint8          \n",
      " 6   Barcelona          50000 non-null  uint8          \n",
      " 7   Berlin             50000 non-null  uint8          \n",
      " 8   Bratislava         50000 non-null  uint8          \n",
      " 9   Brussels           50000 non-null  uint8          \n",
      " 10  Budapest           50000 non-null  uint8          \n",
      " 11  Copenhagen         50000 non-null  uint8          \n",
      " 12  Dublin             50000 non-null  uint8          \n",
      " 13  Edinburgh          50000 non-null  uint8          \n",
      " 14  Geneva             50000 non-null  uint8          \n",
      " 15  Hamburg            50000 non-null  uint8          \n",
      " 16  Helsinki           50000 non-null  uint8          \n",
      " 17  Krakow             50000 non-null  uint8          \n",
      " 18  Lisbon             50000 non-null  uint8          \n",
      " 19  Ljubljana          50000 non-null  uint8          \n",
      " 20  London             50000 non-null  uint8          \n",
      " 21  Luxembourg         50000 non-null  uint8          \n",
      " 22  Lyon               50000 non-null  uint8          \n",
      " 23  Madrid             50000 non-null  uint8          \n",
      " 24  Milan              50000 non-null  uint8          \n",
      " 25  Munich             50000 non-null  uint8          \n",
      " 26  Oporto             50000 non-null  uint8          \n",
      " 27  Oslo               50000 non-null  uint8          \n",
      " 28  Paris              50000 non-null  uint8          \n",
      " 29  Prague             50000 non-null  uint8          \n",
      " 30  Rome               50000 non-null  uint8          \n",
      " 31  Stockholm          50000 non-null  uint8          \n",
      " 32  Vienna             50000 non-null  uint8          \n",
      " 33  Warsaw             50000 non-null  uint8          \n",
      " 34  Zurich             50000 non-null  uint8          \n",
      " 35  Cuisine_Variety    50000 non-null  int64          \n",
      " 36  City_Competition   50000 non-null  int64          \n",
      " 37  Price_Grade        50000 non-null  int64          \n",
      " 38  $                  50000 non-null  uint8          \n",
      " 39  $$_$$$             50000 non-null  uint8          \n",
      " 40  $$$$               50000 non-null  uint8          \n",
      " 41  Rank_Norm          50000 non-null  float64        \n",
      " 42  Rev_delta          50000 non-null  timedelta64[ns]\n",
      " 43  Rev_fresh          50000 non-null  timedelta64[ns]\n",
      " 44  Has_Local          50000 non-null  int64          \n",
      "dtypes: float64(4), int64(5), timedelta64[ns](2), uint8(34)\n",
      "memory usage: 5.8 MB\n"
     ]
    }
   ],
   "source": [
    "data.info()"
   ]
  },
  {
   "cell_type": "markdown",
   "metadata": {},
   "source": [
    "### Переведём формат timedelta в число с помощью регулярных выражений"
   ]
  },
  {
   "cell_type": "code",
   "execution_count": 85,
   "metadata": {},
   "outputs": [],
   "source": [
    "import re\n",
    "\n",
    "def regex(x):\n",
    "    reg = re.compile(r'\\D?\\d{,4}')\n",
    "    return int(reg.search(str(x)).group())\n",
    "\n",
    "data['Rev_delta'] = data.Rev_delta.apply(regex)"
   ]
  },
  {
   "cell_type": "code",
   "execution_count": 354,
   "metadata": {},
   "outputs": [
    {
     "data": {
      "text/plain": [
       "<matplotlib.axes._subplots.AxesSubplot at 0x7f4f93ddafd0>"
      ]
     },
     "execution_count": 354,
     "metadata": {},
     "output_type": "execute_result"
    },
    {
     "data": {
      "image/png": "[encoded data removed]",
      "text/plain": [
       "<Figure size 720x720 with 1 Axes>"
      ]
     },
     "metadata": {
      "needs_background": "light"
     },
     "output_type": "display_data"
    }
   ],
   "source": [
    "data[data['Rev_delta']<1500].Rev_delta.hist(bins=100)"
   ]
  },
  {
   "cell_type": "code",
   "execution_count": 86,
   "metadata": {},
   "outputs": [],
   "source": [
    "data['Rev_fresh'] = data.Rev_fresh.apply(regex)"
   ]
  },
  {
   "cell_type": "code",
   "execution_count": 356,
   "metadata": {},
   "outputs": [
    {
     "data": {
      "text/plain": [
       "<matplotlib.axes._subplots.AxesSubplot at 0x7f4f93803be0>"
      ]
     },
     "execution_count": 356,
     "metadata": {},
     "output_type": "execute_result"
    },
    {
     "data": {
      "image/png": "[encoded data removed]",
      "text/plain": [
       "<Figure size 720x720 with 1 Axes>"
      ]
     },
     "metadata": {
      "needs_background": "light"
     },
     "output_type": "display_data"
    }
   ],
   "source": [
    "data[data.Rev_fresh<3000].Rev_fresh.hist(bins=50)"
   ]
  },
  {
   "cell_type": "code",
   "execution_count": 256,
   "metadata": {},
   "outputs": [
    {
     "data": {
      "text/plain": [
       "Index(['Ranking', 'Number of Reviews', 'sample', 'Rating', 'Amsterdam',\n",
       "       'Athens', 'Barcelona', 'Berlin', 'Bratislava', 'Brussels', 'Budapest',\n",
       "       'Copenhagen', 'Dublin', 'Edinburgh', 'Geneva', 'Hamburg', 'Helsinki',\n",
       "       'Krakow', 'Lisbon', 'Ljubljana', 'London', 'Luxembourg', 'Lyon',\n",
       "       'Madrid', 'Milan', 'Munich', 'Oporto', 'Oslo', 'Paris', 'Prague',\n",
       "       'Rome', 'Stockholm', 'Vienna', 'Warsaw', 'Zurich', 'Cuisine_Variety',\n",
       "       'City_Competition', 'Price_Grade', '$', '$$_$$$', '$$$$', 'Rank_Norm',\n",
       "       'Rev_delta', 'Rev_fresh', 'Has_Local'],\n",
       "      dtype='object')"
      ]
     },
     "execution_count": 256,
     "metadata": {},
     "output_type": "execute_result"
    }
   ],
   "source": [
    "data.columns"
   ]
  },
  {
   "cell_type": "code",
   "execution_count": 357,
   "metadata": {},
   "outputs": [
    {
     "name": "stdout",
     "output_type": "stream",
     "text": [
      "<class 'pandas.core.frame.DataFrame'>\n",
      "RangeIndex: 50000 entries, 0 to 49999\n",
      "Data columns (total 45 columns):\n",
      "Ranking              50000 non-null float64\n",
      "Number of Reviews    50000 non-null float64\n",
      "sample               50000 non-null int64\n",
      "Rating               50000 non-null float64\n",
      "Amsterdam            50000 non-null uint8\n",
      "Athens               50000 non-null uint8\n",
      "Barcelona            50000 non-null uint8\n",
      "Berlin               50000 non-null uint8\n",
      "Bratislava           50000 non-null uint8\n",
      "Brussels             50000 non-null uint8\n",
      "Budapest             50000 non-null uint8\n",
      "Copenhagen           50000 non-null uint8\n",
      "Dublin               50000 non-null uint8\n",
      "Edinburgh            50000 non-null uint8\n",
      "Geneva               50000 non-null uint8\n",
      "Hamburg              50000 non-null uint8\n",
      "Helsinki             50000 non-null uint8\n",
      "Krakow               50000 non-null uint8\n",
      "Lisbon               50000 non-null uint8\n",
      "Ljubljana            50000 non-null uint8\n",
      "London               50000 non-null uint8\n",
      "Luxembourg           50000 non-null uint8\n",
      "Lyon                 50000 non-null uint8\n",
      "Madrid               50000 non-null uint8\n",
      "Milan                50000 non-null uint8\n",
      "Munich               50000 non-null uint8\n",
      "Oporto               50000 non-null uint8\n",
      "Oslo                 50000 non-null uint8\n",
      "Paris                50000 non-null uint8\n",
      "Prague               50000 non-null uint8\n",
      "Rome                 50000 non-null uint8\n",
      "Stockholm            50000 non-null uint8\n",
      "Vienna               50000 non-null uint8\n",
      "Warsaw               50000 non-null uint8\n",
      "Zurich               50000 non-null uint8\n",
      "Cuisine_Variety      50000 non-null int64\n",
      "City_Competition     50000 non-null int64\n",
      "Price_Grade          50000 non-null int64\n",
      "$                    50000 non-null uint8\n",
      "$$_$$$               50000 non-null uint8\n",
      "$$$$                 50000 non-null uint8\n",
      "Rank_Norm            50000 non-null float64\n",
      "Rev_delta            50000 non-null int64\n",
      "Rev_fresh            50000 non-null int64\n",
      "Has_Local            50000 non-null int64\n",
      "dtypes: float64(4), int64(7), uint8(34)\n",
      "memory usage: 5.8 MB\n"
     ]
    }
   ],
   "source": [
    "data.info()"
   ]
  },
  {
   "cell_type": "markdown",
   "metadata": {},
   "source": [
    "![](https://cs10.pikabu.ru/post_img/2018/09/06/11/1536261023140110012.jpg)"
   ]
  },
  {
   "cell_type": "markdown",
   "metadata": {},
   "source": [
    "# EDA \n",
    "[Exploratory Data Analysis](https://ru.wikipedia.org/wiki/Разведочный_анализ_данных) - Анализ данных\n",
    "На этом этапе мы строим графики, ищем закономерности, аномалии, выбросы или связи между признаками.\n",
    "В общем цель этого этапа понять, что эти данные могут нам дать и как признаки могут быть взаимосвязаны между собой.\n",
    "Понимание изначальных признаков позволит сгенерировать новые, более сильные и, тем самым, сделать нашу модель лучше.\n",
    "![](https://miro.medium.com/max/2598/1*RXdMb7Uk6mGqWqPguHULaQ.png)"
   ]
  },
  {
   "cell_type": "markdown",
   "metadata": {},
   "source": [
    "### Посмотрим распределение признака"
   ]
  },
  {
   "cell_type": "code",
   "execution_count": 235,
   "metadata": {},
   "outputs": [
    {
     "data": {
      "text/plain": [
       "<matplotlib.axes._subplots.AxesSubplot at 0x7f4f94f3cda0>"
      ]
     },
     "execution_count": 235,
     "metadata": {},
     "output_type": "execute_result"
    },
    {
     "data": {
      "image/png": "[encoded data removed]",
      "text/plain": [
       "<Figure size 720x504 with 1 Axes>"
      ]
     },
     "metadata": {
      "needs_background": "light"
     },
     "output_type": "display_data"
    }
   ],
   "source": [
    "plt.rcParams['figure.figsize'] = (10,7)\n",
    "df_train['Ranking'].hist(bins=100)"
   ]
  },
  {
   "cell_type": "markdown",
   "metadata": {},
   "source": [
    "У нас много ресторанов, которые не дотягивают и до 2500 места в своем городе, а что там по городам?"
   ]
  },
  {
   "cell_type": "code",
   "execution_count": 236,
   "metadata": {},
   "outputs": [
    {
     "data": {
      "text/plain": [
       "<matplotlib.axes._subplots.AxesSubplot at 0x7f4f94da3da0>"
      ]
     },
     "execution_count": 236,
     "metadata": {},
     "output_type": "execute_result"
    },
    {
     "data": {
      "image/png": "[encoded data removed]",
      "text/plain": [
       "<Figure size 720x504 with 1 Axes>"
      ]
     },
     "metadata": {
      "needs_background": "light"
     },
     "output_type": "display_data"
    }
   ],
   "source": [
    "df_train['City'].value_counts(ascending=True).plot(kind='barh')"
   ]
  },
  {
   "cell_type": "markdown",
   "metadata": {},
   "source": [
    "А кто-то говорил, что французы любят поесть=) Посмотрим, как изменится распределение в большом городе:"
   ]
  },
  {
   "cell_type": "code",
   "execution_count": 237,
   "metadata": {},
   "outputs": [
    {
     "data": {
      "text/plain": [
       "<matplotlib.axes._subplots.AxesSubplot at 0x7f4f94ed1a58>"
      ]
     },
     "execution_count": 237,
     "metadata": {},
     "output_type": "execute_result"
    },
    {
     "data": {
      "image/png": "[encoded data removed]",
      "text/plain": [
       "<Figure size 720x504 with 1 Axes>"
      ]
     },
     "metadata": {
      "needs_background": "light"
     },
     "output_type": "display_data"
    }
   ],
   "source": [
    "df_train['Ranking'][df_train['City'] =='London'].hist(bins=100)"
   ]
  },
  {
   "cell_type": "code",
   "execution_count": 238,
   "metadata": {},
   "outputs": [
    {
     "data": {
      "image/png": "[encoded data removed]",
      "text/plain": [
       "<Figure size 720x504 with 1 Axes>"
      ]
     },
     "metadata": {
      "needs_background": "light"
     },
     "output_type": "display_data"
    }
   ],
   "source": [
    "# посмотрим на топ 10 городов\n",
    "for x in (df_train['City'].value_counts())[0:10].index:\n",
    "    df_train['Ranking'][df_train['City'] == x].hist(bins=100)\n",
    "plt.show()"
   ]
  },
  {
   "cell_type": "markdown",
   "metadata": {},
   "source": [
    "Получается, что Ranking имеет нормальное распределение, просто в больших городах больше ресторанов, из-за мы этого имеем смещение.\n",
    "\n",
    ">Подумайте как из этого можно сделать признак для вашей модели. Я покажу вам пример, как визуализация помогает находить взаимосвязи. А далее действуйте без подсказок =) \n"
   ]
  },
  {
   "cell_type": "markdown",
   "metadata": {},
   "source": [
    "### Посмотрим распределение целевой переменной"
   ]
  },
  {
   "cell_type": "code",
   "execution_count": 239,
   "metadata": {},
   "outputs": [
    {
     "data": {
      "text/plain": [
       "<matplotlib.axes._subplots.AxesSubplot at 0x7f4f94cea080>"
      ]
     },
     "execution_count": 239,
     "metadata": {},
     "output_type": "execute_result"
    },
    {
     "data": {
      "image/png": "[encoded data removed]",
      "text/plain": [
       "<Figure size 720x504 with 1 Axes>"
      ]
     },
     "metadata": {
      "needs_background": "light"
     },
     "output_type": "display_data"
    }
   ],
   "source": [
    "df_train['Rating'].value_counts(ascending=True).plot(kind='barh')"
   ]
  },
  {
   "cell_type": "markdown",
   "metadata": {},
   "source": [
    "### Посмотрим распределение целевой переменной относительно признака"
   ]
  },
  {
   "cell_type": "code",
   "execution_count": 240,
   "metadata": {},
   "outputs": [
    {
     "data": {
      "text/plain": [
       "<matplotlib.axes._subplots.AxesSubplot at 0x7f4f941779b0>"
      ]
     },
     "execution_count": 240,
     "metadata": {},
     "output_type": "execute_result"
    },
    {
     "data": {
      "image/png": "[encoded data removed]",
      "text/plain": [
       "<Figure size 720x504 with 1 Axes>"
      ]
     },
     "metadata": {
      "needs_background": "light"
     },
     "output_type": "display_data"
    }
   ],
   "source": [
    "df_train['Ranking'][df_train['Rating'] == 5].hist(bins=100)"
   ]
  },
  {
   "cell_type": "code",
   "execution_count": 241,
   "metadata": {},
   "outputs": [
    {
     "data": {
      "text/plain": [
       "<matplotlib.axes._subplots.AxesSubplot at 0x7f4f93fea780>"
      ]
     },
     "execution_count": 241,
     "metadata": {},
     "output_type": "execute_result"
    },
    {
     "data": {
      "image/png": "[encoded data removed]",
      "text/plain": [
       "<Figure size 720x504 with 1 Axes>"
      ]
     },
     "metadata": {
      "needs_background": "light"
     },
     "output_type": "display_data"
    }
   ],
   "source": [
    "df_train['Ranking'][df_train['Rating'] < 4].hist(bins=100)"
   ]
  },
  {
   "cell_type": "markdown",
   "metadata": {},
   "source": [
    "### И один из моих любимых - [корреляция признаков](https://ru.wikipedia.org/wiki/Корреляция)\n",
    "На этом графике уже сейчас вы сможете заметить, как признаки связаны между собой и с целевой переменной."
   ]
  },
  {
   "cell_type": "code",
   "execution_count": 260,
   "metadata": {},
   "outputs": [
    {
     "data": {
      "text/plain": [
       "Index(['Ranking', 'Number of Reviews', 'sample', 'Rating', 'Amsterdam',\n",
       "       'Athens', 'Barcelona', 'Berlin', 'Bratislava', 'Brussels', 'Budapest',\n",
       "       'Copenhagen', 'Dublin', 'Edinburgh', 'Geneva', 'Hamburg', 'Helsinki',\n",
       "       'Krakow', 'Lisbon', 'Ljubljana', 'London', 'Luxembourg', 'Lyon',\n",
       "       'Madrid', 'Milan', 'Munich', 'Oporto', 'Oslo', 'Paris', 'Prague',\n",
       "       'Rome', 'Stockholm', 'Vienna', 'Warsaw', 'Zurich', 'Cuisine_Variety',\n",
       "       'City_Competition', 'Price_Grade', '$', '$$_$$$', '$$$$', 'Rank_Norm',\n",
       "       'Rev_delta', 'Rev_fresh', 'Has_Local'],\n",
       "      dtype='object')"
      ]
     },
     "execution_count": 260,
     "metadata": {},
     "output_type": "execute_result"
    }
   ],
   "source": [
    "data.columns"
   ]
  },
  {
   "cell_type": "code",
   "execution_count": 262,
   "metadata": {},
   "outputs": [
    {
     "data": {
      "text/plain": [
       "<matplotlib.axes._subplots.AxesSubplot at 0x7f4f949cc898>"
      ]
     },
     "execution_count": 262,
     "metadata": {},
     "output_type": "execute_result"
    },
    {
     "data": {
      "image/png": "[encoded data removed]",
      "text/plain": [
       "<Figure size 1080x720 with 2 Axes>"
      ]
     },
     "metadata": {
      "needs_background": "light"
     },
     "output_type": "display_data"
    }
   ],
   "source": [
    "plt.rcParams['figure.figsize'] = (15,10)\n",
    "sns.heatmap(data.drop(['sample','$', '$$_$$$', '$$$$'\n",
    "                      ], axis=1).corr(),cmap = 'coolwarm')\n"
   ]
  },
  {
   "cell_type": "markdown",
   "metadata": {},
   "source": [
    "Вообще благодаря визуализации в этом датасете можно узнать много интересных фактов, например:\n",
    "* где больше Пицерий в Мадриде или Лондоне?\n",
    "* в каком городе кухня ресторанов более разнообразна?\n",
    "\n",
    "придумайте свои вопрос и найдите на него ответ в данных)"
   ]
  },
  {
   "cell_type": "code",
   "execution_count": 303,
   "metadata": {},
   "outputs": [
    {
     "data": {
      "text/plain": [
       "Rating               1.000000\n",
       "Rank_Norm            0.168780\n",
       "Ranking              0.109897\n",
       "Cuisine_Variety      0.034506\n",
       "Rev_fresh            0.030632\n",
       "Rome                 0.027527\n",
       "Rev_delta            0.025971\n",
       "$                    0.023520\n",
       "Milan                0.023233\n",
       "Price_Grade          0.022047\n",
       "$$$$                 0.018409\n",
       "Athens               0.016852\n",
       "Madrid               0.016232\n",
       "City_Competition     0.014428\n",
       "Berlin               0.012834\n",
       "Has_Local            0.012030\n",
       "Number of Reviews    0.011006\n",
       "Stockholm            0.010417\n",
       "Vienna               0.010188\n",
       "Oporto               0.009654\n",
       "Name: Rating, dtype: float64"
      ]
     },
     "execution_count": 303,
     "metadata": {},
     "output_type": "execute_result"
    }
   ],
   "source": [
    "# Выделим наиболее коррелирующие с целевой переменной факторы\n",
    "\n",
    "abs(data.drop(['sample'],axis=1\n",
    "             ).corr().loc['Rating']).sort_values(ascending=False)[:20]"
   ]
  },
  {
   "cell_type": "code",
   "execution_count": 306,
   "metadata": {},
   "outputs": [],
   "source": [
    "data_short = data.drop([\n",
    "    'sample','Amsterdam','Barcelona','Bratislava','Brussels', \n",
    "    'Budapest','Copenhagen','Dublin','Edinburgh','Geneva',\n",
    "    'Hamburg','Helsinki','Krakow','Lisbon','Ljubljana','London', \n",
    "    'Luxembourg','Lyon','Munich','Oslo', \n",
    "    'Paris','Prague','Warsaw','Zurich',\n",
    "    '$', '$$_$$$', '$$$$'], axis=1)"
   ]
  },
  {
   "cell_type": "code",
   "execution_count": 307,
   "metadata": {},
   "outputs": [
    {
     "data": {
      "text/plain": [
       "<matplotlib.axes._subplots.AxesSubplot at 0x7f4fbf5c8cf8>"
      ]
     },
     "execution_count": 307,
     "metadata": {},
     "output_type": "execute_result"
    },
    {
     "data": {
      "image/png": "[encoded data removed]",
      "text/plain": [
       "<Figure size 1080x720 with 2 Axes>"
      ]
     },
     "metadata": {
      "needs_background": "light"
     },
     "output_type": "display_data"
    }
   ],
   "source": [
    "plt.rcParams['figure.figsize'] = (15,10)\n",
    "sns.heatmap(data_short.corr(), annot = True, cmap = 'coolwarm')"
   ]
  },
  {
   "cell_type": "markdown",
   "metadata": {},
   "source": [
    "# Model \n",
    "Сам ML"
   ]
  },
  {
   "cell_type": "code",
   "execution_count": 88,
   "metadata": {},
   "outputs": [],
   "source": [
    "# Импортируем необходимые библиотеки:\n",
    "from sklearn.ensemble import RandomForestRegressor # инструмент для создания и обучения модели\n",
    "from sklearn import metrics # инструменты для оценки точности модели"
   ]
  },
  {
   "cell_type": "code",
   "execution_count": 89,
   "metadata": {},
   "outputs": [],
   "source": [
    "# Для гарантированной идентификации перед разбиением массива вернем 'Restaurant_id'\n",
    "data['Restaurant_id'] = Restaurant_id"
   ]
  },
  {
   "cell_type": "code",
   "execution_count": 95,
   "metadata": {},
   "outputs": [
    {
     "name": "stdout",
     "output_type": "stream",
     "text": [
      "<class 'pandas.core.frame.DataFrame'>\n",
      "RangeIndex: 50000 entries, 0 to 49999\n",
      "Data columns (total 46 columns):\n",
      " #   Column             Non-Null Count  Dtype  \n",
      "---  ------             --------------  -----  \n",
      " 0   Ranking            50000 non-null  float64\n",
      " 1   Number of Reviews  50000 non-null  float64\n",
      " 2   sample             50000 non-null  int64  \n",
      " 3   Rating             50000 non-null  float64\n",
      " 4   Amsterdam          50000 non-null  uint8  \n",
      " 5   Athens             50000 non-null  uint8  \n",
      " 6   Barcelona          50000 non-null  uint8  \n",
      " 7   Berlin             50000 non-null  uint8  \n",
      " 8   Bratislava         50000 non-null  uint8  \n",
      " 9   Brussels           50000 non-null  uint8  \n",
      " 10  Budapest           50000 non-null  uint8  \n",
      " 11  Copenhagen         50000 non-null  uint8  \n",
      " 12  Dublin             50000 non-null  uint8  \n",
      " 13  Edinburgh          50000 non-null  uint8  \n",
      " 14  Geneva             50000 non-null  uint8  \n",
      " 15  Hamburg            50000 non-null  uint8  \n",
      " 16  Helsinki           50000 non-null  uint8  \n",
      " 17  Krakow             50000 non-null  uint8  \n",
      " 18  Lisbon             50000 non-null  uint8  \n",
      " 19  Ljubljana          50000 non-null  uint8  \n",
      " 20  London             50000 non-null  uint8  \n",
      " 21  Luxembourg         50000 non-null  uint8  \n",
      " 22  Lyon               50000 non-null  uint8  \n",
      " 23  Madrid             50000 non-null  uint8  \n",
      " 24  Milan              50000 non-null  uint8  \n",
      " 25  Munich             50000 non-null  uint8  \n",
      " 26  Oporto             50000 non-null  uint8  \n",
      " 27  Oslo               50000 non-null  uint8  \n",
      " 28  Paris              50000 non-null  uint8  \n",
      " 29  Prague             50000 non-null  uint8  \n",
      " 30  Rome               50000 non-null  uint8  \n",
      " 31  Stockholm          50000 non-null  uint8  \n",
      " 32  Vienna             50000 non-null  uint8  \n",
      " 33  Warsaw             50000 non-null  uint8  \n",
      " 34  Zurich             50000 non-null  uint8  \n",
      " 35  Cuisine_Variety    50000 non-null  int64  \n",
      " 36  City_Competition   50000 non-null  int64  \n",
      " 37  Price_Grade        50000 non-null  int64  \n",
      " 38  $                  50000 non-null  uint8  \n",
      " 39  $$_$$$             50000 non-null  uint8  \n",
      " 40  $$$$               50000 non-null  uint8  \n",
      " 41  Rank_Norm          50000 non-null  float64\n",
      " 42  Rev_delta          50000 non-null  int64  \n",
      " 43  Rev_fresh          50000 non-null  int64  \n",
      " 44  Has_Local          50000 non-null  int64  \n",
      " 45  Restaurant_id      50000 non-null  object \n",
      "dtypes: float64(4), int64(7), object(1), uint8(34)\n",
      "memory usage: 6.2+ MB\n"
     ]
    }
   ],
   "source": [
    "data.info()"
   ]
  },
  {
   "cell_type": "code",
   "execution_count": 96,
   "metadata": {},
   "outputs": [],
   "source": [
    "# Теперь выделим тестовую часть\n",
    "train_data = data.query('sample == 1').drop(['sample'], axis=1)\n",
    "test_data = data.query('sample == 0').drop(['sample'], axis=1)"
   ]
  },
  {
   "cell_type": "code",
   "execution_count": 99,
   "metadata": {},
   "outputs": [],
   "source": [
    "train_Restaurant_id = train_data['Restaurant_id']\n",
    "train_data = train_data.drop(['Restaurant_id'], axis=1)\n",
    "\n",
    "test_Restaurant_id = test_data['Restaurant_id']\n",
    "test_data = test_data.drop(['Restaurant_id'], axis=1)"
   ]
  },
  {
   "cell_type": "code",
   "execution_count": 100,
   "metadata": {},
   "outputs": [],
   "source": [
    "y = train_data.Rating.values            # наш таргет\n",
    "X = train_data.drop(['Rating'], axis=1)"
   ]
  },
  {
   "cell_type": "markdown",
   "metadata": {},
   "source": [
    "**Перед тем как отправлять наши данные на обучение, разделим данные на еще один тест и трейн, для валидации. \n",
    "Это поможет нам проверить, как хорошо наша модель работает, до отправки submissiona на kaggle.**"
   ]
  },
  {
   "cell_type": "code",
   "execution_count": 101,
   "metadata": {},
   "outputs": [],
   "source": [
    "# Воспользуемся специальной функцие train_test_split для разбивки тестовых \n",
    "# данных выделим 20% данных на валидацию (параметр test_size)\n",
    "X_train, X_test, y_train, y_test = train_test_split(\n",
    "    X, y, test_size=0.2, random_state=RANDOM_SEED)"
   ]
  },
  {
   "cell_type": "code",
   "execution_count": 102,
   "metadata": {},
   "outputs": [
    {
     "data": {
      "text/plain": [
       "((10000, 44), (40000, 44), (40000, 43), (32000, 43), (8000, 43))"
      ]
     },
     "execution_count": 102,
     "metadata": {},
     "output_type": "execute_result"
    }
   ],
   "source": [
    "# проверяем\n",
    "test_data.shape, train_data.shape, X.shape, X_train.shape, X_test.shape"
   ]
  },
  {
   "cell_type": "code",
   "execution_count": 104,
   "metadata": {},
   "outputs": [
    {
     "name": "stderr",
     "output_type": "stream",
     "text": [
      "[Parallel(n_jobs=-1)]: Using backend ThreadingBackend with 8 concurrent workers.\n",
      "[Parallel(n_jobs=-1)]: Done  34 tasks      | elapsed:    1.7s\n",
      "[Parallel(n_jobs=-1)]: Done 100 out of 100 | elapsed:    4.7s finished\n",
      "[Parallel(n_jobs=8)]: Using backend ThreadingBackend with 8 concurrent workers.\n",
      "[Parallel(n_jobs=8)]: Done  34 tasks      | elapsed:    0.0s\n",
      "[Parallel(n_jobs=8)]: Done 100 out of 100 | elapsed:    0.0s finished\n"
     ]
    },
    {
     "name": "stdout",
     "output_type": "stream",
     "text": [
      "MAE: 0.20146187499999996\n"
     ]
    }
   ],
   "source": [
    "# Создаём модель (НАСТРОЙКИ НЕ ТРОГАЕМ)\n",
    "model = RandomForestRegressor(n_estimators=100, verbose=1, n_jobs=-1, random_state=RANDOM_SEED)\n",
    "\n",
    "\n",
    "# Обучаем модель на тестовом наборе данных\n",
    "model.fit(X_train, y_train)\n",
    "\n",
    "# Используем обученную модель для предсказания рейтинга ресторанов в тестовой выборке.\n",
    "# Предсказанные значения записываем в переменную y_pred\n",
    "y_pred = model.predict(X_test)\n",
    "\n",
    "\n",
    "# Сравниваем предсказанные значения (y_pred) с реальными (y_test), и смотрим насколько они в среднем отличаются\n",
    "# Метрика называется Mean Absolute Error (MAE) и показывает среднее отклонение предсказанных значений от фактических.\n",
    "print('MAE:', metrics.mean_absolute_error(y_test, y_pred))"
   ]
  },
  {
   "cell_type": "code",
   "execution_count": 381,
   "metadata": {},
   "outputs": [
    {
     "data": {
      "text/plain": [
       "<matplotlib.axes._subplots.AxesSubplot at 0x7f4f9269a4a8>"
      ]
     },
     "execution_count": 381,
     "metadata": {},
     "output_type": "execute_result"
    },
    {
     "data": {
      "image/png": "[encoded data removed]",
      "text/plain": [
       "<Figure size 720x720 with 1 Axes>"
      ]
     },
     "metadata": {
      "needs_background": "light"
     },
     "output_type": "display_data"
    }
   ],
   "source": [
    "# в RandomForestRegressor есть возможность вывести самые важные признаки для модели\n",
    "plt.rcParams['figure.figsize'] = (10,10)\n",
    "feat_importances = pd.Series(model.feature_importances_, index=X.columns)\n",
    "feat_importances.nlargest(15).plot(kind='barh')"
   ]
  },
  {
   "cell_type": "code",
   "execution_count": 382,
   "metadata": {},
   "outputs": [
    {
     "data": {
      "text/plain": [
       "Rating               1.000000\n",
       "Rank_Norm            0.168780\n",
       "Ranking              0.109897\n",
       "Cuisine_Variety      0.034506\n",
       "Rev_fresh            0.030632\n",
       "Rome                 0.027527\n",
       "Rev_delta            0.025971\n",
       "$                    0.023520\n",
       "Milan                0.023233\n",
       "Price_Grade          0.022047\n",
       "$$$$                 0.018409\n",
       "Athens               0.016852\n",
       "Madrid               0.016232\n",
       "City_Competition     0.014428\n",
       "Berlin               0.012834\n",
       "Has_Local            0.012030\n",
       "Number of Reviews    0.011006\n",
       "Stockholm            0.010417\n",
       "Vienna               0.010188\n",
       "Name: Rating, dtype: float64"
      ]
     },
     "execution_count": 382,
     "metadata": {},
     "output_type": "execute_result"
    }
   ],
   "source": [
    "correl = abs(data.drop(['sample'],axis=1\n",
    "                      ).corr().loc['Rating'])\n",
    "\n",
    "correl[correl>=0.01].sort_values(ascending=False)"
   ]
  },
  {
   "cell_type": "code",
   "execution_count": 105,
   "metadata": {},
   "outputs": [],
   "source": [
    "data3 = data.copy()"
   ]
  },
  {
   "cell_type": "markdown",
   "metadata": {},
   "source": [
    "# Submission\n",
    "Если все устраевает - готовим Submission на кагл"
   ]
  },
  {
   "cell_type": "code",
   "execution_count": 107,
   "metadata": {},
   "outputs": [
    {
     "data": {
      "text/html": [
       "<div>\n",
       "<style scoped>\n",
       "    .dataframe tbody tr th:only-of-type {\n",
       "        vertical-align: middle;\n",
       "    }\n",
       "\n",
       "    .dataframe tbody tr th {\n",
       "        vertical-align: top;\n",
       "    }\n",
       "\n",
       "    .dataframe thead th {\n",
       "        text-align: right;\n",
       "    }\n",
       "</style>\n",
       "<table border=\"1\" class=\"dataframe\">\n",
       "  <thead>\n",
       "    <tr style=\"text-align: right;\">\n",
       "      <th></th>\n",
       "      <th>Ranking</th>\n",
       "      <th>Number of Reviews</th>\n",
       "      <th>Rating</th>\n",
       "      <th>Amsterdam</th>\n",
       "      <th>Athens</th>\n",
       "      <th>Barcelona</th>\n",
       "      <th>Berlin</th>\n",
       "      <th>Bratislava</th>\n",
       "      <th>Brussels</th>\n",
       "      <th>Budapest</th>\n",
       "      <th>...</th>\n",
       "      <th>Cuisine_Variety</th>\n",
       "      <th>City_Competition</th>\n",
       "      <th>Price_Grade</th>\n",
       "      <th>$</th>\n",
       "      <th>$$_$$$</th>\n",
       "      <th>$$$$</th>\n",
       "      <th>Rank_Norm</th>\n",
       "      <th>Rev_delta</th>\n",
       "      <th>Rev_fresh</th>\n",
       "      <th>Has_Local</th>\n",
       "    </tr>\n",
       "  </thead>\n",
       "  <tbody>\n",
       "    <tr>\n",
       "      <th>1736</th>\n",
       "      <td>1342.0</td>\n",
       "      <td>52.0</td>\n",
       "      <td>0.0</td>\n",
       "      <td>0</td>\n",
       "      <td>0</td>\n",
       "      <td>0</td>\n",
       "      <td>0</td>\n",
       "      <td>0</td>\n",
       "      <td>0</td>\n",
       "      <td>0</td>\n",
       "      <td>...</td>\n",
       "      <td>3</td>\n",
       "      <td>3</td>\n",
       "      <td>2</td>\n",
       "      <td>0</td>\n",
       "      <td>1</td>\n",
       "      <td>0</td>\n",
       "      <td>45.5</td>\n",
       "      <td>74</td>\n",
       "      <td>1248</td>\n",
       "      <td>0</td>\n",
       "    </tr>\n",
       "    <tr>\n",
       "      <th>760</th>\n",
       "      <td>4629.0</td>\n",
       "      <td>27.0</td>\n",
       "      <td>0.0</td>\n",
       "      <td>0</td>\n",
       "      <td>0</td>\n",
       "      <td>1</td>\n",
       "      <td>0</td>\n",
       "      <td>0</td>\n",
       "      <td>0</td>\n",
       "      <td>0</td>\n",
       "      <td>...</td>\n",
       "      <td>3</td>\n",
       "      <td>7</td>\n",
       "      <td>2</td>\n",
       "      <td>0</td>\n",
       "      <td>1</td>\n",
       "      <td>0</td>\n",
       "      <td>40.6</td>\n",
       "      <td>207</td>\n",
       "      <td>1328</td>\n",
       "      <td>0</td>\n",
       "    </tr>\n",
       "    <tr>\n",
       "      <th>9072</th>\n",
       "      <td>2401.0</td>\n",
       "      <td>24.0</td>\n",
       "      <td>0.0</td>\n",
       "      <td>0</td>\n",
       "      <td>0</td>\n",
       "      <td>1</td>\n",
       "      <td>0</td>\n",
       "      <td>0</td>\n",
       "      <td>0</td>\n",
       "      <td>0</td>\n",
       "      <td>...</td>\n",
       "      <td>5</td>\n",
       "      <td>7</td>\n",
       "      <td>2</td>\n",
       "      <td>0</td>\n",
       "      <td>1</td>\n",
       "      <td>0</td>\n",
       "      <td>69.2</td>\n",
       "      <td>36</td>\n",
       "      <td>1333</td>\n",
       "      <td>0</td>\n",
       "    </tr>\n",
       "    <tr>\n",
       "      <th>343</th>\n",
       "      <td>711.0</td>\n",
       "      <td>596.0</td>\n",
       "      <td>0.0</td>\n",
       "      <td>0</td>\n",
       "      <td>0</td>\n",
       "      <td>1</td>\n",
       "      <td>0</td>\n",
       "      <td>0</td>\n",
       "      <td>0</td>\n",
       "      <td>0</td>\n",
       "      <td>...</td>\n",
       "      <td>5</td>\n",
       "      <td>7</td>\n",
       "      <td>3</td>\n",
       "      <td>0</td>\n",
       "      <td>0</td>\n",
       "      <td>1</td>\n",
       "      <td>90.9</td>\n",
       "      <td>7</td>\n",
       "      <td>1189</td>\n",
       "      <td>1</td>\n",
       "    </tr>\n",
       "    <tr>\n",
       "      <th>4179</th>\n",
       "      <td>1333.0</td>\n",
       "      <td>23.0</td>\n",
       "      <td>0.0</td>\n",
       "      <td>0</td>\n",
       "      <td>0</td>\n",
       "      <td>0</td>\n",
       "      <td>0</td>\n",
       "      <td>0</td>\n",
       "      <td>0</td>\n",
       "      <td>0</td>\n",
       "      <td>...</td>\n",
       "      <td>1</td>\n",
       "      <td>2</td>\n",
       "      <td>4</td>\n",
       "      <td>0</td>\n",
       "      <td>0</td>\n",
       "      <td>0</td>\n",
       "      <td>32.0</td>\n",
       "      <td>12</td>\n",
       "      <td>1141</td>\n",
       "      <td>0</td>\n",
       "    </tr>\n",
       "    <tr>\n",
       "      <th>3602</th>\n",
       "      <td>2371.0</td>\n",
       "      <td>18.0</td>\n",
       "      <td>0.0</td>\n",
       "      <td>0</td>\n",
       "      <td>0</td>\n",
       "      <td>0</td>\n",
       "      <td>0</td>\n",
       "      <td>0</td>\n",
       "      <td>0</td>\n",
       "      <td>0</td>\n",
       "      <td>...</td>\n",
       "      <td>2</td>\n",
       "      <td>4</td>\n",
       "      <td>2</td>\n",
       "      <td>0</td>\n",
       "      <td>1</td>\n",
       "      <td>0</td>\n",
       "      <td>43.4</td>\n",
       "      <td>177</td>\n",
       "      <td>1191</td>\n",
       "      <td>0</td>\n",
       "    </tr>\n",
       "    <tr>\n",
       "      <th>1390</th>\n",
       "      <td>4892.0</td>\n",
       "      <td>251.0</td>\n",
       "      <td>0.0</td>\n",
       "      <td>0</td>\n",
       "      <td>0</td>\n",
       "      <td>1</td>\n",
       "      <td>0</td>\n",
       "      <td>0</td>\n",
       "      <td>0</td>\n",
       "      <td>0</td>\n",
       "      <td>...</td>\n",
       "      <td>3</td>\n",
       "      <td>7</td>\n",
       "      <td>1</td>\n",
       "      <td>1</td>\n",
       "      <td>0</td>\n",
       "      <td>0</td>\n",
       "      <td>37.2</td>\n",
       "      <td>164</td>\n",
       "      <td>1268</td>\n",
       "      <td>1</td>\n",
       "    </tr>\n",
       "    <tr>\n",
       "      <th>5603</th>\n",
       "      <td>7208.0</td>\n",
       "      <td>12.0</td>\n",
       "      <td>0.0</td>\n",
       "      <td>0</td>\n",
       "      <td>0</td>\n",
       "      <td>0</td>\n",
       "      <td>0</td>\n",
       "      <td>0</td>\n",
       "      <td>0</td>\n",
       "      <td>0</td>\n",
       "      <td>...</td>\n",
       "      <td>1</td>\n",
       "      <td>8</td>\n",
       "      <td>4</td>\n",
       "      <td>0</td>\n",
       "      <td>0</td>\n",
       "      <td>0</td>\n",
       "      <td>18.2</td>\n",
       "      <td>0</td>\n",
       "      <td>2318</td>\n",
       "      <td>0</td>\n",
       "    </tr>\n",
       "    <tr>\n",
       "      <th>692</th>\n",
       "      <td>3961.0</td>\n",
       "      <td>127.0</td>\n",
       "      <td>0.0</td>\n",
       "      <td>0</td>\n",
       "      <td>0</td>\n",
       "      <td>0</td>\n",
       "      <td>0</td>\n",
       "      <td>0</td>\n",
       "      <td>0</td>\n",
       "      <td>0</td>\n",
       "      <td>...</td>\n",
       "      <td>2</td>\n",
       "      <td>15</td>\n",
       "      <td>2</td>\n",
       "      <td>0</td>\n",
       "      <td>1</td>\n",
       "      <td>0</td>\n",
       "      <td>75.9</td>\n",
       "      <td>69</td>\n",
       "      <td>1132</td>\n",
       "      <td>0</td>\n",
       "    </tr>\n",
       "    <tr>\n",
       "      <th>8132</th>\n",
       "      <td>759.0</td>\n",
       "      <td>14.0</td>\n",
       "      <td>0.0</td>\n",
       "      <td>0</td>\n",
       "      <td>0</td>\n",
       "      <td>0</td>\n",
       "      <td>0</td>\n",
       "      <td>0</td>\n",
       "      <td>0</td>\n",
       "      <td>0</td>\n",
       "      <td>...</td>\n",
       "      <td>4</td>\n",
       "      <td>2</td>\n",
       "      <td>2</td>\n",
       "      <td>0</td>\n",
       "      <td>1</td>\n",
       "      <td>0</td>\n",
       "      <td>48.9</td>\n",
       "      <td>421</td>\n",
       "      <td>1144</td>\n",
       "      <td>1</td>\n",
       "    </tr>\n",
       "  </tbody>\n",
       "</table>\n",
       "<p>10 rows × 44 columns</p>\n",
       "</div>"
      ],
      "text/plain": [
       "      Ranking  Number of Reviews  Rating  Amsterdam  Athens  Barcelona  \\\n",
       "1736   1342.0               52.0     0.0          0       0          0   \n",
       "760    4629.0               27.0     0.0          0       0          1   \n",
       "9072   2401.0               24.0     0.0          0       0          1   \n",
       "343     711.0              596.0     0.0          0       0          1   \n",
       "4179   1333.0               23.0     0.0          0       0          0   \n",
       "3602   2371.0               18.0     0.0          0       0          0   \n",
       "1390   4892.0              251.0     0.0          0       0          1   \n",
       "5603   7208.0               12.0     0.0          0       0          0   \n",
       "692    3961.0              127.0     0.0          0       0          0   \n",
       "8132    759.0               14.0     0.0          0       0          0   \n",
       "\n",
       "      Berlin  Bratislava  Brussels  Budapest  ...  Cuisine_Variety  \\\n",
       "1736       0           0         0         0  ...                3   \n",
       "760        0           0         0         0  ...                3   \n",
       "9072       0           0         0         0  ...                5   \n",
       "343        0           0         0         0  ...                5   \n",
       "4179       0           0         0         0  ...                1   \n",
       "3602       0           0         0         0  ...                2   \n",
       "1390       0           0         0         0  ...                3   \n",
       "5603       0           0         0         0  ...                1   \n",
       "692        0           0         0         0  ...                2   \n",
       "8132       0           0         0         0  ...                4   \n",
       "\n",
       "      City_Competition  Price_Grade  $  $$_$$$  $$$$  Rank_Norm  Rev_delta  \\\n",
       "1736                 3            2  0       1     0       45.5         74   \n",
       "760                  7            2  0       1     0       40.6        207   \n",
       "9072                 7            2  0       1     0       69.2         36   \n",
       "343                  7            3  0       0     1       90.9          7   \n",
       "4179                 2            4  0       0     0       32.0         12   \n",
       "3602                 4            2  0       1     0       43.4        177   \n",
       "1390                 7            1  1       0     0       37.2        164   \n",
       "5603                 8            4  0       0     0       18.2          0   \n",
       "692                 15            2  0       1     0       75.9         69   \n",
       "8132                 2            2  0       1     0       48.9        421   \n",
       "\n",
       "      Rev_fresh  Has_Local  \n",
       "1736       1248          0  \n",
       "760        1328          0  \n",
       "9072       1333          0  \n",
       "343        1189          1  \n",
       "4179       1141          0  \n",
       "3602       1191          0  \n",
       "1390       1268          1  \n",
       "5603       2318          0  \n",
       "692        1132          0  \n",
       "8132       1144          1  \n",
       "\n",
       "[10 rows x 44 columns]"
      ]
     },
     "execution_count": 107,
     "metadata": {},
     "output_type": "execute_result"
    }
   ],
   "source": [
    "test_data.sample(10)"
   ]
  },
  {
   "cell_type": "code",
   "execution_count": 108,
   "metadata": {},
   "outputs": [],
   "source": [
    "test_data = test_data.drop(['Rating'], axis=1)"
   ]
  },
  {
   "cell_type": "code",
   "execution_count": null,
   "metadata": {},
   "outputs": [],
   "source": [
    "test_data"
   ]
  },
  {
   "cell_type": "code",
   "execution_count": 110,
   "metadata": {},
   "outputs": [
    {
     "data": {
      "text/html": [
       "<div>\n",
       "<style scoped>\n",
       "    .dataframe tbody tr th:only-of-type {\n",
       "        vertical-align: middle;\n",
       "    }\n",
       "\n",
       "    .dataframe tbody tr th {\n",
       "        vertical-align: top;\n",
       "    }\n",
       "\n",
       "    .dataframe thead th {\n",
       "        text-align: right;\n",
       "    }\n",
       "</style>\n",
       "<table border=\"1\" class=\"dataframe\">\n",
       "  <thead>\n",
       "    <tr style=\"text-align: right;\">\n",
       "      <th></th>\n",
       "      <th>Restaurant_id</th>\n",
       "      <th>Rating</th>\n",
       "    </tr>\n",
       "  </thead>\n",
       "  <tbody>\n",
       "    <tr>\n",
       "      <th>0</th>\n",
       "      <td>id_0</td>\n",
       "      <td>2.0</td>\n",
       "    </tr>\n",
       "    <tr>\n",
       "      <th>1</th>\n",
       "      <td>id_1</td>\n",
       "      <td>2.5</td>\n",
       "    </tr>\n",
       "    <tr>\n",
       "      <th>2</th>\n",
       "      <td>id_2</td>\n",
       "      <td>4.0</td>\n",
       "    </tr>\n",
       "    <tr>\n",
       "      <th>3</th>\n",
       "      <td>id_3</td>\n",
       "      <td>1.0</td>\n",
       "    </tr>\n",
       "    <tr>\n",
       "      <th>4</th>\n",
       "      <td>id_4</td>\n",
       "      <td>4.0</td>\n",
       "    </tr>\n",
       "  </tbody>\n",
       "</table>\n",
       "</div>"
      ],
      "text/plain": [
       "  Restaurant_id  Rating\n",
       "0          id_0     2.0\n",
       "1          id_1     2.5\n",
       "2          id_2     4.0\n",
       "3          id_3     1.0\n",
       "4          id_4     4.0"
      ]
     },
     "execution_count": 110,
     "metadata": {},
     "output_type": "execute_result"
    }
   ],
   "source": [
    "sample_submission.head()"
   ]
  },
  {
   "cell_type": "code",
   "execution_count": 111,
   "metadata": {},
   "outputs": [
    {
     "name": "stderr",
     "output_type": "stream",
     "text": [
      "[Parallel(n_jobs=8)]: Using backend ThreadingBackend with 8 concurrent workers.\n",
      "[Parallel(n_jobs=8)]: Done  34 tasks      | elapsed:    0.0s\n",
      "[Parallel(n_jobs=8)]: Done 100 out of 100 | elapsed:    0.0s finished\n"
     ]
    }
   ],
   "source": [
    "predict_submission = model.predict(test_data)"
   ]
  },
  {
   "cell_type": "code",
   "execution_count": 112,
   "metadata": {},
   "outputs": [
    {
     "data": {
      "text/plain": [
       "array([3.125, 4.225, 4.415, ..., 3.055, 4.495, 4.305])"
      ]
     },
     "execution_count": 112,
     "metadata": {},
     "output_type": "execute_result"
    }
   ],
   "source": [
    "predict_submission"
   ]
  },
  {
   "cell_type": "code",
   "execution_count": 114,
   "metadata": {},
   "outputs": [
    {
     "data": {
      "text/html": [
       "<div>\n",
       "<style scoped>\n",
       "    .dataframe tbody tr th:only-of-type {\n",
       "        vertical-align: middle;\n",
       "    }\n",
       "\n",
       "    .dataframe tbody tr th {\n",
       "        vertical-align: top;\n",
       "    }\n",
       "\n",
       "    .dataframe thead th {\n",
       "        text-align: right;\n",
       "    }\n",
       "</style>\n",
       "<table border=\"1\" class=\"dataframe\">\n",
       "  <thead>\n",
       "    <tr style=\"text-align: right;\">\n",
       "      <th></th>\n",
       "      <th>Restaurant_id</th>\n",
       "      <th>Rating</th>\n",
       "    </tr>\n",
       "  </thead>\n",
       "  <tbody>\n",
       "    <tr>\n",
       "      <th>0</th>\n",
       "      <td>id_0</td>\n",
       "      <td>3.125</td>\n",
       "    </tr>\n",
       "    <tr>\n",
       "      <th>1</th>\n",
       "      <td>id_1</td>\n",
       "      <td>4.225</td>\n",
       "    </tr>\n",
       "    <tr>\n",
       "      <th>2</th>\n",
       "      <td>id_2</td>\n",
       "      <td>4.415</td>\n",
       "    </tr>\n",
       "    <tr>\n",
       "      <th>3</th>\n",
       "      <td>id_3</td>\n",
       "      <td>4.270</td>\n",
       "    </tr>\n",
       "    <tr>\n",
       "      <th>4</th>\n",
       "      <td>id_4</td>\n",
       "      <td>4.480</td>\n",
       "    </tr>\n",
       "  </tbody>\n",
       "</table>\n",
       "</div>"
      ],
      "text/plain": [
       "  Restaurant_id  Rating\n",
       "0          id_0   3.125\n",
       "1          id_1   4.225\n",
       "2          id_2   4.415\n",
       "3          id_3   4.270\n",
       "4          id_4   4.480"
      ]
     },
     "execution_count": 114,
     "metadata": {},
     "output_type": "execute_result"
    }
   ],
   "source": [
    "sample_submission['Rating'] = predict_submission\n",
    "sample_submission.to_csv('submission.csv', index=False)\n",
    "sample_submission.head(5)"
   ]
  },
  {
   "cell_type": "code",
   "execution_count": 117,
   "metadata": {},
   "outputs": [
    {
     "data": {
      "text/html": [
       "<div>\n",
       "<style scoped>\n",
       "    .dataframe tbody tr th:only-of-type {\n",
       "        vertical-align: middle;\n",
       "    }\n",
       "\n",
       "    .dataframe tbody tr th {\n",
       "        vertical-align: top;\n",
       "    }\n",
       "\n",
       "    .dataframe thead th {\n",
       "        text-align: right;\n",
       "    }\n",
       "</style>\n",
       "<table border=\"1\" class=\"dataframe\">\n",
       "  <thead>\n",
       "    <tr style=\"text-align: right;\">\n",
       "      <th></th>\n",
       "      <th>Ranking</th>\n",
       "      <th>Number of Reviews</th>\n",
       "      <th>Amsterdam</th>\n",
       "      <th>Athens</th>\n",
       "      <th>Barcelona</th>\n",
       "      <th>Berlin</th>\n",
       "      <th>Bratislava</th>\n",
       "      <th>Brussels</th>\n",
       "      <th>Budapest</th>\n",
       "      <th>Copenhagen</th>\n",
       "      <th>...</th>\n",
       "      <th>Cuisine_Variety</th>\n",
       "      <th>City_Competition</th>\n",
       "      <th>Price_Grade</th>\n",
       "      <th>$</th>\n",
       "      <th>$$_$$$</th>\n",
       "      <th>$$$$</th>\n",
       "      <th>Rank_Norm</th>\n",
       "      <th>Rev_delta</th>\n",
       "      <th>Rev_fresh</th>\n",
       "      <th>Has_Local</th>\n",
       "    </tr>\n",
       "  </thead>\n",
       "  <tbody>\n",
       "    <tr>\n",
       "      <th>0</th>\n",
       "      <td>12963.0</td>\n",
       "      <td>4.0</td>\n",
       "      <td>0</td>\n",
       "      <td>0</td>\n",
       "      <td>0</td>\n",
       "      <td>0</td>\n",
       "      <td>0</td>\n",
       "      <td>0</td>\n",
       "      <td>0</td>\n",
       "      <td>0</td>\n",
       "      <td>...</td>\n",
       "      <td>2</td>\n",
       "      <td>13</td>\n",
       "      <td>2</td>\n",
       "      <td>0</td>\n",
       "      <td>1</td>\n",
       "      <td>0</td>\n",
       "      <td>7.3</td>\n",
       "      <td>0</td>\n",
       "      <td>1224</td>\n",
       "      <td>0</td>\n",
       "    </tr>\n",
       "    <tr>\n",
       "      <th>1</th>\n",
       "      <td>106.0</td>\n",
       "      <td>97.0</td>\n",
       "      <td>0</td>\n",
       "      <td>0</td>\n",
       "      <td>0</td>\n",
       "      <td>0</td>\n",
       "      <td>0</td>\n",
       "      <td>0</td>\n",
       "      <td>0</td>\n",
       "      <td>0</td>\n",
       "      <td>...</td>\n",
       "      <td>5</td>\n",
       "      <td>1</td>\n",
       "      <td>2</td>\n",
       "      <td>0</td>\n",
       "      <td>1</td>\n",
       "      <td>0</td>\n",
       "      <td>90.7</td>\n",
       "      <td>37</td>\n",
       "      <td>1139</td>\n",
       "      <td>1</td>\n",
       "    </tr>\n",
       "    <tr>\n",
       "      <th>2</th>\n",
       "      <td>810.0</td>\n",
       "      <td>28.0</td>\n",
       "      <td>0</td>\n",
       "      <td>0</td>\n",
       "      <td>0</td>\n",
       "      <td>0</td>\n",
       "      <td>0</td>\n",
       "      <td>0</td>\n",
       "      <td>0</td>\n",
       "      <td>0</td>\n",
       "      <td>...</td>\n",
       "      <td>1</td>\n",
       "      <td>2</td>\n",
       "      <td>2</td>\n",
       "      <td>0</td>\n",
       "      <td>1</td>\n",
       "      <td>0</td>\n",
       "      <td>54.1</td>\n",
       "      <td>22</td>\n",
       "      <td>1116</td>\n",
       "      <td>0</td>\n",
       "    </tr>\n",
       "    <tr>\n",
       "      <th>3</th>\n",
       "      <td>1669.0</td>\n",
       "      <td>202.0</td>\n",
       "      <td>0</td>\n",
       "      <td>0</td>\n",
       "      <td>0</td>\n",
       "      <td>0</td>\n",
       "      <td>0</td>\n",
       "      <td>0</td>\n",
       "      <td>0</td>\n",
       "      <td>0</td>\n",
       "      <td>...</td>\n",
       "      <td>5</td>\n",
       "      <td>15</td>\n",
       "      <td>3</td>\n",
       "      <td>0</td>\n",
       "      <td>0</td>\n",
       "      <td>1</td>\n",
       "      <td>89.9</td>\n",
       "      <td>14</td>\n",
       "      <td>1138</td>\n",
       "      <td>0</td>\n",
       "    </tr>\n",
       "    <tr>\n",
       "      <th>4</th>\n",
       "      <td>37.0</td>\n",
       "      <td>162.0</td>\n",
       "      <td>0</td>\n",
       "      <td>0</td>\n",
       "      <td>0</td>\n",
       "      <td>0</td>\n",
       "      <td>1</td>\n",
       "      <td>0</td>\n",
       "      <td>0</td>\n",
       "      <td>0</td>\n",
       "      <td>...</td>\n",
       "      <td>6</td>\n",
       "      <td>1</td>\n",
       "      <td>3</td>\n",
       "      <td>0</td>\n",
       "      <td>0</td>\n",
       "      <td>1</td>\n",
       "      <td>95.8</td>\n",
       "      <td>15</td>\n",
       "      <td>1074</td>\n",
       "      <td>0</td>\n",
       "    </tr>\n",
       "  </tbody>\n",
       "</table>\n",
       "<p>5 rows × 43 columns</p>\n",
       "</div>"
      ],
      "text/plain": [
       "   Ranking  Number of Reviews  Amsterdam  Athens  Barcelona  Berlin  \\\n",
       "0  12963.0                4.0          0       0          0       0   \n",
       "1    106.0               97.0          0       0          0       0   \n",
       "2    810.0               28.0          0       0          0       0   \n",
       "3   1669.0              202.0          0       0          0       0   \n",
       "4     37.0              162.0          0       0          0       0   \n",
       "\n",
       "   Bratislava  Brussels  Budapest  Copenhagen  ...  Cuisine_Variety  \\\n",
       "0           0         0         0           0  ...                2   \n",
       "1           0         0         0           0  ...                5   \n",
       "2           0         0         0           0  ...                1   \n",
       "3           0         0         0           0  ...                5   \n",
       "4           1         0         0           0  ...                6   \n",
       "\n",
       "   City_Competition  Price_Grade  $  $$_$$$  $$$$  Rank_Norm  Rev_delta  \\\n",
       "0                13            2  0       1     0        7.3          0   \n",
       "1                 1            2  0       1     0       90.7         37   \n",
       "2                 2            2  0       1     0       54.1         22   \n",
       "3                15            3  0       0     1       89.9         14   \n",
       "4                 1            3  0       0     1       95.8         15   \n",
       "\n",
       "   Rev_fresh  Has_Local  \n",
       "0       1224          0  \n",
       "1       1139          1  \n",
       "2       1116          0  \n",
       "3       1138          0  \n",
       "4       1074          0  \n",
       "\n",
       "[5 rows x 43 columns]"
      ]
     },
     "execution_count": 117,
     "metadata": {},
     "output_type": "execute_result"
    }
   ],
   "source": [
    "test_data.to_csv('kaggle_task.csv', index=False)\n",
    "test_data.head(5)"
   ]
  },
  {
   "cell_type": "markdown",
   "metadata": {},
   "source": [
    "# What's next?\n",
    "Или что делать, чтоб улучшить результат:\n",
    "* Обработать оставшиеся признаки в понятный для машины формат\n",
    "* Посмотреть, что еще можно извлечь из признаков\n",
    "* Сгенерировать новые признаки\n",
    "* Подгрузить дополнительные данные, например: по населению или благосостоянию городов\n",
    "* Подобрать состав признаков\n",
    "\n",
    "В общем, процесс творческий и весьма увлекательный! Удачи в соревновании!\n"
   ]
  },
  {
   "cell_type": "code",
   "execution_count": null,
   "metadata": {},
   "outputs": [],
   "source": []
  }
 ],
 "metadata": {
  "kernelspec": {
   "display_name": "Python 3",
   "language": "python",
   "name": "python3"
  },
  "language_info": {
   "codemirror_mode": {
    "name": "ipython",
    "version": 3
   },
   "file_extension": ".py",
   "mimetype": "text/x-python",
   "name": "python",
   "nbconvert_exporter": "python",
   "pygments_lexer": "ipython3",
   "version": "3.7.6"
  }
 },
 "nbformat": 4,
 "nbformat_minor": 4
}
